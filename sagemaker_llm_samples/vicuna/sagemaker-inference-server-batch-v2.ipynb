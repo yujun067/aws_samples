{
 "cells": [
  {
   "cell_type": "markdown",
   "id": "1ae65fec",
   "metadata": {},
   "source": [
    "# Deploy the finetuned vicuna model on Amazon SageMaker with djl server batch"
   ]
  },
  {
   "cell_type": "markdown",
   "id": "e2407531",
   "metadata": {},
   "source": [
    "## Create a SageMaker Model for Deployment\n",
    "As a first step, we'll import the relevant libraries and configure several global variables such as the hosting image that will be used nd the S3 location of our model artifacts"
   ]
  },
  {
   "cell_type": "code",
   "execution_count": 1,
   "id": "5806a0f1",
   "metadata": {
    "tags": []
   },
   "outputs": [],
   "source": [
    "import sagemaker\n",
    "from sagemaker.model import Model\n",
    "from sagemaker import serializers, deserializers\n",
    "from sagemaker import image_uris\n",
    "import boto3\n",
    "import os\n",
    "import time\n",
    "import json\n",
    "import jinja2\n",
    "from pathlib import Path"
   ]
  },
  {
   "cell_type": "code",
   "execution_count": 2,
   "id": "24862c4a",
   "metadata": {
    "tags": []
   },
   "outputs": [],
   "source": [
    "role = sagemaker.get_execution_role()  # execution role for the endpoint\n",
    "sess = sagemaker.session.Session()  # sagemaker session for interacting with different AWS APIs\n",
    "bucket = sess.default_bucket()  # bucket to house artifacts\n",
    "\n",
    "region = sess._region_name # region name of the current SageMaker Studio environment\n",
    "account_id = sess.account_id()  # account_id of the current SageMaker Studio environment\n",
    "\n",
    "s3_client = boto3.client(\"s3\") # client to intreract with S3 API\n",
    "sm_client = boto3.client(\"sagemaker\")  # client to intreract with SageMaker\n",
    "smr_client = boto3.client(\"sagemaker-runtime\") # client to intreract with SageMaker Endpoints\n",
    "jinja_env = jinja2.Environment() # jinja environment to generate model configuration templates"
   ]
  },
  {
   "cell_type": "code",
   "execution_count": null,
   "id": "38930529",
   "metadata": {
    "tags": []
   },
   "outputs": [],
   "source": [
    "# lookup the inference image uri based on our current region\n",
    "djl_inference_image_uri = (\n",
    "    f\"763104351884.dkr.ecr.{region}.amazonaws.com/djl-inference:0.21.0-deepspeed0.8.3-cu117\"\n",
    ")"
   ]
  },
  {
   "cell_type": "code",
   "execution_count": null,
   "id": "d00f2f2b",
   "metadata": {
    "tags": []
   },
   "outputs": [],
   "source": [
    "pretrained_model_location = \"s3://sagemaker-us-west-2-687912291502/llama/output/2023-05-10-12-43-02/llama_out/\"# Change to the model artifact path in S3 which we get from the fine tune job\n",
    "print(f\"Pretrained model will be downloaded from ---- > {pretrained_model_location}\")"
   ]
  },
  {
   "cell_type": "markdown",
   "id": "29aec093",
   "metadata": {},
   "source": [
    "## Build the inference contianer image"
   ]
  },
  {
   "cell_type": "code",
   "execution_count": 3,
   "id": "7b814406",
   "metadata": {
    "tags": []
   },
   "outputs": [
    {
     "name": "stdout",
     "output_type": "stream",
     "text": [
      "Overwriting Dockerfile.inference\n"
     ]
    }
   ],
   "source": [
    "%%writefile Dockerfile.inference\n",
    "## You should change below region code to the region you used, here sample is use us-west-2\n",
    "#From 763104351884.dkr.ecr.us-west-2.amazonaws.com/djl-inference:0.21.0-deepspeed0.8.3-cu117\n",
    "From 763104351884.dkr.ecr.us-west-2.amazonaws.com/djl-inference:0.23.0-deepspeed0.9.5-cu118\n",
    "\n",
    "ENV LANG=C.UTF-8\n",
    "ENV PYTHONUNBUFFERED=TRUE\n",
    "ENV PYTHONDONTWRITEBYTECODE=TRUE\n",
    "\n",
    "## Install transfomers version which support LLaMaTokenizer\n",
    "#RUN python3 -m pip install git+https://github.com/huggingface/transformers.git@68d640f7c368bcaaaecfc678f11908ebbd3d6176\n",
    "## Install transfomers version which support vicuna v1.1 LLaMaTokenizer\n",
    "#RUN python3 -m pip install transformers==4.29.0\n",
    "#RUN python3 -m pip install transformers==4.28.1\n",
    "RUN python3 -m pip install transformers==4.30.2\n",
    "\n",
    "## Make all local GPUs visible\n",
    "ENV NVIDIA_VISIBLE_DEVICES=\"all\""
   ]
  },
  {
   "cell_type": "code",
   "execution_count": 4,
   "id": "465b7a51",
   "metadata": {
    "tags": []
   },
   "outputs": [
    {
     "name": "stdout",
     "output_type": "stream",
     "text": [
      "WARNING! Your password will be stored unencrypted in /home/ec2-user/.docker/config.json.\n",
      "Configure a credential helper to remove this warning. See\n",
      "https://docs.docker.com/engine/reference/commandline/login/#credentials-store\n",
      "\n",
      "Login Succeeded\n"
     ]
    }
   ],
   "source": [
    "## You should change below region code to the region you used, here sample is use us-west-2\n",
    "!aws ecr get-login-password --region us-west-2 | docker login --username AWS --password-stdin 763104351884.dkr.ecr.us-west-2.amazonaws.com"
   ]
  },
  {
   "cell_type": "code",
   "execution_count": 5,
   "id": "351f761d",
   "metadata": {
    "tags": []
   },
   "outputs": [],
   "source": [
    "## define repo name, should contain *sagemaker* in the name\n",
    "repo_name = \"sagemaker-vicuna-inference-severbatch-demo\""
   ]
  },
  {
   "cell_type": "code",
   "execution_count": 13,
   "id": "4a58a7ce",
   "metadata": {
    "tags": []
   },
   "outputs": [
    {
     "name": "stdout",
     "output_type": "stream",
     "text": [
      "Login Succeeded\n",
      "Sending build context to Docker daemon   22.6GB\n",
      "Step 1/6 : From 763104351884.dkr.ecr.us-west-2.amazonaws.com/djl-inference:0.23.0-deepspeed0.9.5-cu118\n",
      " ---> a4515b81505b\n",
      "Step 2/6 : ENV LANG=C.UTF-8\n",
      " ---> Using cache\n",
      " ---> 57b814a63c1c\n",
      "Step 3/6 : ENV PYTHONUNBUFFERED=TRUE\n",
      " ---> Using cache\n",
      " ---> 353ffb632ace\n",
      "Step 4/6 : ENV PYTHONDONTWRITEBYTECODE=TRUE\n",
      " ---> Using cache\n",
      " ---> 072e2ee21c51\n",
      "Step 5/6 : RUN python3 -m pip install transformers==4.30.2\n",
      " ---> Using cache\n",
      " ---> a9f148b3e05a\n",
      "Step 6/6 : ENV NVIDIA_VISIBLE_DEVICES=\"all\"\n",
      " ---> Using cache\n",
      " ---> b88d0cb3f10a\n",
      "Successfully built b88d0cb3f10a\n",
      "Successfully tagged sagemaker-vicuna-inference-severbatch-demo:latest\n",
      "The push refers to repository [687912291502.dkr.ecr.us-west-2.amazonaws.com/sagemaker-vicuna-inference-severbatch-demo]\n",
      "aa3fb0261bc7: Preparing\n",
      "8232c22b63e4: Preparing\n",
      "08f3a337b655: Preparing\n",
      "49cbf9c77aed: Preparing\n",
      "48878ad231c8: Preparing\n",
      "ecbe7b57a5a3: Preparing\n",
      "d50b7a306b3a: Preparing\n",
      "1e85726aa032: Preparing\n",
      "d2f28d242dff: Preparing\n",
      "63944adf2d91: Preparing\n",
      "2f7812b2bcfe: Preparing\n",
      "5516a107ea4b: Preparing\n",
      "5f73babe0dd6: Preparing\n",
      "914a68a70f7f: Preparing\n",
      "2556f07cfd83: Preparing\n",
      "d86b654bb9f9: Preparing\n",
      "93b76ad9c95e: Preparing\n",
      "a2fdb4e1ecd1: Preparing\n",
      "0ceb5c845fcf: Preparing\n",
      "6426a7216f78: Preparing\n",
      "ec66d8cea54a: Preparing\n",
      "1e85726aa032: Waiting\n",
      "a2fdb4e1ecd1: Waiting\n",
      "d2f28d242dff: Waiting\n",
      "0ceb5c845fcf: Waiting\n",
      "914a68a70f7f: Waiting\n",
      "63944adf2d91: Waiting\n",
      "2556f07cfd83: Waiting\n",
      "5516a107ea4b: Waiting\n",
      "5f73babe0dd6: Waiting\n",
      "6426a7216f78: Waiting\n",
      "ec66d8cea54a: Waiting\n",
      "ecbe7b57a5a3: Waiting\n",
      "d86b654bb9f9: Waiting\n",
      "08f3a337b655: Pushed\n",
      "aa3fb0261bc7: Pushed\n",
      "49cbf9c77aed: Pushed\n",
      "48878ad231c8: Pushed\n",
      "ecbe7b57a5a3: Pushed\n",
      "d50b7a306b3a: Pushed\n",
      "d2f28d242dff: Pushed\n",
      "1e85726aa032: Pushed\n",
      "5f73babe0dd6: Pushed\n",
      "2f7812b2bcfe: Pushed\n",
      "914a68a70f7f: Pushed\n",
      "2556f07cfd83: Pushed\n",
      "93b76ad9c95e: Pushed\n",
      "a2fdb4e1ecd1: Pushed\n",
      "0ceb5c845fcf: Pushed\n",
      "6426a7216f78: Pushed\n",
      "ec66d8cea54a: Layer already exists\n",
      "d86b654bb9f9: Pushed\n",
      "63944adf2d91: Pushed\n",
      "5516a107ea4b: Pushed\n",
      "8232c22b63e4: Pushed\n",
      "latest: digest: sha256:141ad678cddb2e52f60db2092c54900e949a0d05fb60d41b82c9d739a04580d6 size: 4715\n"
     ]
    },
    {
     "name": "stderr",
     "output_type": "stream",
     "text": [
      "WARNING! Your password will be stored unencrypted in /home/ec2-user/.docker/config.json.\n",
      "Configure a credential helper to remove this warning. See\n",
      "https://docs.docker.com/engine/reference/commandline/login/#credentials-store\n",
      "\n"
     ]
    }
   ],
   "source": [
    "%%script env repo_name=$repo_name bash\n",
    "\n",
    "#!/usr/bin/env bash\n",
    "\n",
    "# This script shows how to build the Docker image and push it to ECR to be ready for use\n",
    "# by SageMaker.\n",
    "\n",
    "# The argument to this script is the image name. This will be used as the image on the local\n",
    "# machine and combined with the account and region to form the repository name for ECR.\n",
    "# The name of our algorithm\n",
    "algorithm_name=${repo_name}\n",
    "\n",
    "account=$(aws sts get-caller-identity --query Account --output text)\n",
    "\n",
    "# Get the region defined in the current configuration (default to us-west-2 if none defined)\n",
    "region=$(aws configure get region)\n",
    "region=${region:-us-west-2}\n",
    "\n",
    "fullname=\"${account}.dkr.ecr.${region}.amazonaws.com/${algorithm_name}:latest\"\n",
    "\n",
    "# If the repository doesn't exist in ECR, create it.\n",
    "aws ecr describe-repositories --repository-names \"${algorithm_name}\" > /dev/null 2>&1\n",
    "\n",
    "if [ $? -ne 0 ]\n",
    "then\n",
    "    aws ecr create-repository --repository-name \"${algorithm_name}\" > /dev/null\n",
    "fi\n",
    "\n",
    "# Get the login command from ECR and execute it directly\n",
    "aws ecr get-login-password --region ${region}|docker login --username AWS --password-stdin ${fullname}\n",
    "\n",
    "# Build the docker image locally with the image name and then push it to ECR\n",
    "# with the full name.\n",
    "\n",
    "docker build -t ${algorithm_name} -f Dockerfile.inference .\n",
    "docker tag ${algorithm_name} ${fullname}\n",
    "\n",
    "docker push ${fullname}"
   ]
  },
  {
   "cell_type": "code",
   "execution_count": 14,
   "id": "84497325",
   "metadata": {
    "tags": []
   },
   "outputs": [
    {
     "data": {
      "text/plain": [
       "'687912291502.dkr.ecr.us-west-2.amazonaws.com/sagemaker-vicuna-inference-severbatch-demo:latest'"
      ]
     },
     "execution_count": 14,
     "metadata": {},
     "output_type": "execute_result"
    }
   ],
   "source": [
    "## The image uri which is build and pushed above\n",
    "inference_image_uri = \"{}.dkr.ecr.{}.amazonaws.com/{}:latest\".format(account_id, region, repo_name)\n",
    "inference_image_uri"
   ]
  },
  {
   "cell_type": "markdown",
   "id": "01e33506",
   "metadata": {},
   "source": [
    "## Deploying a Large Language Model using deepspeed engine\n",
    "The DJL Inference Image which we will be utilizing ships with a number of built-in inference handlers for a wide variety of tasks including:\n",
    "- `text-generation`\n",
    "- `question-answering`\n",
    "- `text-classification`\n",
    "- `token-classification`\n",
    "\n",
    "You can refer to this [GitRepo](https://github.com/deepjavalibrary/djl-serving/tree/master/engines/python/setup/djl_python) for a list of additional handlers and available NLP Tasks. <br>\n",
    "These handlers can be utilized as is without having to write any custom inference code. We simply need to create a `serving.properties` text file with our desired hosting options and package it up into a `tar.gz` artifact.\n",
    "\n",
    "Lets take a look at the `serving.properties` file that we'll be using for our first example"
   ]
  },
  {
   "cell_type": "code",
   "execution_count": 15,
   "id": "e3570119",
   "metadata": {
    "tags": []
   },
   "outputs": [
    {
     "name": "stdout",
     "output_type": "stream",
     "text": [
      "mkdir: cannot create directory ‘deepspeed_src’: File exists\n"
     ]
    }
   ],
   "source": [
    "!mkdir deepspeed_src"
   ]
  },
  {
   "cell_type": "code",
   "execution_count": 2,
   "id": "f91f79d8-8119-4e5e-9abe-953e4c290d64",
   "metadata": {
    "tags": []
   },
   "outputs": [
    {
     "name": "stdout",
     "output_type": "stream",
     "text": [
      "download: s3://sagemaker-us-west-2-687912291502/llm/models/LLM_llama2_7b/config.json to ./config.json\n"
     ]
    }
   ],
   "source": [
    "!aws s3 cp s3://sagemaker-us-west-2-687912291502/llm/models/LLM_llama2_7b/config.json ./"
   ]
  },
  {
   "cell_type": "code",
   "execution_count": 29,
   "id": "33c253cd",
   "metadata": {
    "tags": []
   },
   "outputs": [
    {
     "name": "stdout",
     "output_type": "stream",
     "text": [
      "Overwriting deepspeed_src/serving.properties\n"
     ]
    }
   ],
   "source": [
    "%%writefile deepspeed_src/serving.properties\n",
    "engine=DeepSpeed\n",
    "option.entryPoint=model.py\n",
    "option.tensor_parallel_degree=1\n",
    "#option.model_id=helloollel/vicuna-7b\n",
    "option.s3url=s3://sagemaker-us-west-2-687912291502/llm/models/LLM_llama2_7b/\n",
    "batch_size=16\n",
    "max_batch_delay=100\n",
    "#option.task=text-generation\n",
    "#option.device_map=auto\n",
    "option.load_in_8bit=TRUE"
   ]
  },
  {
   "cell_type": "markdown",
   "id": "e46cffa8",
   "metadata": {},
   "source": [
    "There are a few options specified here. Lets go through them in turn<br>\n",
    "1. `engine` - specifies the engine that will be used for this workload. In this case we'll be hosting a model using the [DJL Python Engine](https://github.com/deepjavalibrary/djl-serving/tree/master/engines/python)\n",
    "2. `option.entryPoint` - specifies the entrypoint code that will be used to host the model. djl_python.huggingface refers to the `huggingface.py` module from [djl_python repo](https://github.com/deepjavalibrary/djl-serving/tree/master/engines/python/setup/djl_python).  \n",
    "3. `option.s3url` - specifies the location of the model files. Alternativelly an `option.model_id` option can be used instead to specifiy a model from Hugging Face Hub (e.g. `EleutherAI/gpt-j-6B`) and the model will be automatically downloaded from the Hub. The s3url approach is recommended as it allows you to host the model artifact within your own environment and enables faster deployments by utilizing optimized approach within the DJL inference container to transfer the model from S3 into the hosting instance \n",
    "4. `option.task` - This is specific to the `huggingface.py` inference handler and specifies for which task this model will be used\n",
    "5. `option.device_map` - Enables layer-wise model partitioning through [Hugging Face Accelerate](https://huggingface.co/docs/accelerate/usage_guides/big_modeling#designing-a-device-map). With `option.device_map=auto`, Accelerate will determine where to put each **layer** to maximize the use of your fastest devices (GPUs) and offload the rest on the CPU, or even the hard drive if you don’t have enough GPU RAM (or CPU RAM). Even if the model is split across several devices, it will run as you would normally expect.\n",
    "6. `option.load_in_8bit` - Quantizes the model weights to int8 thereby greatly reducing the memory footprint of the model from the initial FP32. See this [blog post](https://huggingface.co/blog/hf-bitsandbytes-integration) from Hugging Face for additional information \n",
    "\n",
    "For more information on the available options, please refer to the [SageMaker Large Model Inference Documentation](https://docs.aws.amazon.com/sagemaker/latest/dg/realtime-endpoints-large-model-configuration.html)\n",
    "\n",
    "Our initial approach here is to utilize the built-in functionality within Hugging Face Transformers to enable Large Language Model hosting. "
   ]
  },
  {
   "cell_type": "code",
   "execution_count": 31,
   "id": "d1746e87-ef56-414d-a1ea-b57db076d7bb",
   "metadata": {
    "tags": []
   },
   "outputs": [
    {
     "name": "stdout",
     "output_type": "stream",
     "text": [
      "Overwriting deepspeed_src/model.py\n"
     ]
    }
   ],
   "source": [
    "%%writefile deepspeed_src/model.py\n",
    "from djl_python import Input, Output\n",
    "import os\n",
    "import logging\n",
    "import math\n",
    "import deepspeed\n",
    "import torch\n",
    "import torch.distributed as dist\n",
    "import sys\n",
    "import subprocess\n",
    "import time\n",
    "import transformers\n",
    "from transformers import pipeline, AutoModelForCausalLM, AutoTokenizer\n",
    "from transformers.models.llama.tokenization_llama import LlamaTokenizer\n",
    "import time\n",
    "\n",
    "print(\"transformers version==\"+transformers.__version__)\n",
    "\n",
    "predictor = None\n",
    "\n",
    "#for deepspeed engine\n",
    "\n",
    "def load_model(properties):\n",
    "    tensor_parallel = properties[\"tensor_parallel_degree\"]\n",
    "    model_location = properties['model_dir']\n",
    "    if \"model_id\" in properties:\n",
    "        model_location = properties['model_id']\n",
    "    #logging.info(f\"Loading model in {model_location}\")\n",
    "    \n",
    "    print(\"----------tensor parallel is {0}---------\".format(tensor_parallel))\n",
    "    \n",
    "    #model_location = \"EleutherAI/gpt-neo-2.7B\"\n",
    "    logging.info(f\"Loading model in {model_location}\")\n",
    "    print(f\"Loading model in {model_location}\")\n",
    "    model = AutoModelForCausalLM.from_pretrained(model_location, torch_dtype=torch.float16)\n",
    "    tokenizer = LlamaTokenizer.from_pretrained(model_location, torch_dtype=torch.float16)\n",
    "\n",
    "    print(\"----------model dtype is {0}---------\".format(model.dtype))\n",
    "    model = deepspeed.init_inference(\n",
    "        model,\n",
    "        mp_size=tensor_parallel,\n",
    "        dtype=model.dtype,\n",
    "        # dtype=torch.half,\n",
    "        # dtype=torch.int8,\n",
    "        replace_method=\"auto\",\n",
    "        replace_with_kernel_inject=True,\n",
    "        #replace_method=\"auto\",\n",
    "        #replace_with_kernel_inject=True,\n",
    "    )\n",
    "    \n",
    "    local_rank = int(os.getenv(\"LOCAL_RANK\", \"0\"))\n",
    "    generator = pipeline(\n",
    "        task=\"text-generation\", model=model, tokenizer=tokenizer, device=local_rank, use_cache=True\n",
    "    )\n",
    "    generator.tokenizer.pad_token_id = model.config.eos_token_id\n",
    "    return generator, model, tokenizer\n",
    "\n",
    "\n",
    "def handle(inputs: Input) -> None:\n",
    "    global predictor, model, tokenizer\n",
    "    try:\n",
    "        if not predictor:\n",
    "            predictor,model,tokenizer = load_model(inputs.get_properties())\n",
    "\n",
    "        print(inputs)\n",
    "        if inputs.is_empty():\n",
    "            # Model server makes an empty call to warmup the model on startup\n",
    "            return None\n",
    "        \n",
    "        if inputs.is_batch():\n",
    "            batch_size = inputs.get_batch_size()\n",
    "            logging.info(f\"Dynamic batching size: {batch_size}.\")\n",
    "            batch = inputs.get_batches()\n",
    "            print(batch)\n",
    "            tmp_inputs = []\n",
    "            for _, item in enumerate(batch):\n",
    "                tmp_item = item.get_as_json()\n",
    "                tmp_inputs.append(tmp_item.get(\"inputs\"))\n",
    "                \n",
    "                ##use the unified parameters for batch prediction###\n",
    "                params = tmp_item.get(\"parameters\",{})\n",
    "            \n",
    "            t1 = time.time()\n",
    "            result = predictor(tmp_inputs, batch_size=batch_size, **params)\n",
    "            t2 = time.time()\n",
    "            print(\"Batched: the inference time is {} sec, and size is {}.\".format(t2 - t1, batch_size))\n",
    "            outputs = Output()\n",
    "            for i in range(len(result)):\n",
    "                outputs.add(result[i], key=\"generate_text\", batch_index=i)\n",
    "            return outputs\n",
    "        else:\n",
    "            inputs = inputs.get_as_json()\n",
    "            if not inputs.get(\"inputs\"):\n",
    "                return Output().add_as_json({\"code\":-1,\"msg\":\"input field can't be null\"})\n",
    "\n",
    "\n",
    "            #input data\n",
    "            data = inputs.get(\"inputs\")\n",
    "            params = inputs.get(\"parameters\",{})\n",
    "            print(params)\n",
    "            \n",
    "            #predictor\n",
    "            t1 = time.time()\n",
    "            result = predictor(data, **params)\n",
    "            t2 = time.time()\n",
    "            print(\"the inference time is {} sec.\".format(t2 - t1))\n",
    "            #return\n",
    "            return Output().add({\"code\":0,\"msg\":\"ok\",\"data\":result})\n",
    "    except Exception as e:\n",
    "        return Output().add_as_json({\"code\":-1,\"msg\":e})\n",
    "\n",
    "\n"
   ]
  },
  {
   "cell_type": "code",
   "execution_count": 32,
   "id": "87923cef-0632-4d8a-b792-4627bf3a0203",
   "metadata": {
    "tags": []
   },
   "outputs": [
    {
     "name": "stdout",
     "output_type": "stream",
     "text": [
      "Overwriting deepspeed_src/requirements.txt\n"
     ]
    }
   ],
   "source": [
    "%%writefile deepspeed_src/requirements.txt\n",
    "protobuf==3.20\n",
    "#accelerate=>0.17.0"
   ]
  },
  {
   "cell_type": "markdown",
   "id": "d156470a",
   "metadata": {},
   "source": [
    "We place the `serving.properties` file into a tarball and upload it to S3"
   ]
  },
  {
   "cell_type": "code",
   "execution_count": 33,
   "id": "12371518",
   "metadata": {
    "tags": []
   },
   "outputs": [
    {
     "name": "stdout",
     "output_type": "stream",
     "text": [
      "deepspeed_src/\n",
      "deepspeed_src/.ipynb_checkpoints/\n",
      "deepspeed_src/.ipynb_checkpoints/model-checkpoint.py\n",
      "deepspeed_src/.ipynb_checkpoints/requirements-checkpoint.txt\n",
      "deepspeed_src/.ipynb_checkpoints/serving-checkpoint.properties\n",
      "deepspeed_src/model.py\n",
      "deepspeed_src/serving.template\n",
      "deepspeed_src/serving.properties\n",
      "deepspeed_src/requirements.txt\n"
     ]
    }
   ],
   "source": [
    "!tar czvf acc_model.tar.gz deepspeed_src/ "
   ]
  },
  {
   "cell_type": "code",
   "execution_count": 34,
   "id": "3098668f",
   "metadata": {
    "tags": []
   },
   "outputs": [
    {
     "name": "stdout",
     "output_type": "stream",
     "text": [
      "S3 Code or Model tar ball uploaded to --- > s3://sagemaker-us-west-2-687912291502/llama/deploy/code/acc_model.tar.gz\n"
     ]
    }
   ],
   "source": [
    "s3_code_prefix = \"llama/deploy/code\"\n",
    "\n",
    "code_artifact = sess.upload_data(\"acc_model.tar.gz\", bucket, s3_code_prefix)\n",
    "print(f\"S3 Code or Model tar ball uploaded to --- > {code_artifact}\")"
   ]
  },
  {
   "cell_type": "markdown",
   "id": "e0807c58",
   "metadata": {},
   "source": [
    "## Deploy Model to a SageMaker Endpoint\n",
    "With a helper function we can now deploy our endpoint and invoke it with some sample inputs"
   ]
  },
  {
   "cell_type": "code",
   "execution_count": 35,
   "id": "ccb25eff-af72-4e51-8d83-9190c2d80279",
   "metadata": {
    "tags": []
   },
   "outputs": [
    {
     "name": "stdout",
     "output_type": "stream",
     "text": [
      "arn:aws:sagemaker:us-west-2:687912291502:model/vicuna-7b-2023-08-30-01-34-19-580\n",
      "{'EndpointConfigArn': 'arn:aws:sagemaker:us-west-2:687912291502:endpoint-config/vicuna-7b-2023-08-30-01-34-19-580-config', 'ResponseMetadata': {'RequestId': '83dabf07-1813-4e8f-97d6-b32f2d018696', 'HTTPStatusCode': 200, 'HTTPHeaders': {'x-amzn-requestid': '83dabf07-1813-4e8f-97d6-b32f2d018696', 'content-type': 'application/x-amz-json-1.1', 'content-length': '121', 'date': 'Wed, 30 Aug 2023 01:34:20 GMT'}, 'RetryAttempts': 0}}\n",
      "{'EndpointArn': 'arn:aws:sagemaker:us-west-2:687912291502:endpoint/vicuna-7b-2023-08-30-01-34-19-580-endpoint', 'ResponseMetadata': {'RequestId': '70f96d4f-09c2-4fad-8555-44dbff2ef4b9', 'HTTPStatusCode': 200, 'HTTPHeaders': {'x-amzn-requestid': '70f96d4f-09c2-4fad-8555-44dbff2ef4b9', 'content-type': 'application/x-amz-json-1.1', 'content-length': '110', 'date': 'Wed, 30 Aug 2023 01:34:20 GMT'}, 'RetryAttempts': 0}}\n"
     ]
    }
   ],
   "source": [
    "from sagemaker.utils import name_from_base\n",
    "\n",
    "model_name = name_from_base(f\"vicuna-7B\")\n",
    "\n",
    "create_model_response = sm_client.create_model(\n",
    "    ModelName=model_name,\n",
    "    ExecutionRoleArn=role,\n",
    "    PrimaryContainer={\n",
    "        \"Image\": inference_image_uri,\n",
    "        \"ModelDataUrl\": code_artifact\n",
    "    }\n",
    ")\n",
    "model_arn = create_model_response[\"ModelArn\"]\n",
    "print(model_arn)\n",
    "\n",
    "endpoint_config_name = f\"{model_name}-config\"\n",
    "endpoint_name = f\"{model_name}-endpoint\"\n",
    "\n",
    "endpoint_config_response = sm_client.create_endpoint_config(\n",
    "    EndpointConfigName=endpoint_config_name,\n",
    "    ProductionVariants=[\n",
    "        {\n",
    "            \"VariantName\": \"variant1\",\n",
    "            \"ModelName\": model_name,\n",
    "            \"InstanceType\": \"ml.g5.2xlarge\",\n",
    "            \"InitialInstanceCount\": 1,\n",
    "        }\n",
    "    ]\n",
    ")\n",
    "print(endpoint_config_response)\n",
    "\n",
    "create_endpoint_response = sm_client.create_endpoint(\n",
    "    EndpointName=f\"{endpoint_name}\", EndpointConfigName=endpoint_config_name\n",
    ")\n",
    "print(create_endpoint_response)"
   ]
  },
  {
   "cell_type": "markdown",
   "id": "b3c19a0c",
   "metadata": {},
   "source": [
    "Let's run an example with a basic text generation prompt Large model inference is"
   ]
  },
  {
   "cell_type": "code",
   "execution_count": 36,
   "id": "1bb09c60-9259-4382-bf44-5ac9e28d28b5",
   "metadata": {
    "tags": []
   },
   "outputs": [
    {
     "name": "stdout",
     "output_type": "stream",
     "text": [
      "prompt_a==1842\n",
      "prompt_b==1461\n"
     ]
    },
    {
     "name": "stderr",
     "output_type": "stream",
     "text": [
      "[Parallel(n_jobs=10)]: Using backend ThreadingBackend with 10 concurrent workers.\n"
     ]
    },
    {
     "name": "stdout",
     "output_type": "stream",
     "text": [
      "{'code': 0, 'msg': 'ok', 'data': [{'generated_text': '\\n                leister : \"😆\" XxFoxyQBAxX : \"Ja, to co tyle zrobiłeś?\" \\n                XxNORxXMithra : \"Ja, to co tyle zrobiłeś?\" \\n                XxNORxXMithra : \"Ja, to co tyle zrobiłeś?\" \\n                XxNORx'}]}\n"
     ]
    },
    {
     "name": "stderr",
     "output_type": "stream",
     "text": [
      "[Parallel(n_jobs=10)]: Done   1 out of   1 | elapsed:    1.6s finished\n"
     ]
    }
   ],
   "source": [
    "from dotenv import load_dotenv\n",
    "load_dotenv(override=True)\n",
    "import boto3\n",
    "import json\n",
    "runtime = boto3.client('runtime.sagemaker')\n",
    "from joblib import Parallel, delayed\n",
    "\n",
    "prompt_a = f\"\"\"You are an AI shopping assistant for e-commerce company AAA.|||I want to eat hotpot, could you recommend products for hotpot. It would be nice if the products covers all types of hotpot items and total price exceed the free shipping threshold.|||\\n=========\\n[[yumei dongbei style hot pot,\\nchinese,\\ninstant food,shou xiguo,]]\\n=========\\n we chose to persuade a purchase in no more than 40 words.\\nAnswer:\n",
    "\"\"\"\n",
    "print(\"prompt_a==\"+str(len(prompt_a)))\n",
    "\n",
    "prompt_b = f\"\"\"\n",
    "You are an AI shopping assistant expert for e-commerce company AAA.\\nUser is asking a product exploration question (delimited by |||), we already found related products provided as context (delimited by [[]].\\n|||navigate to Zion|||\\n=========\\n[[israel sharon fruit, 12-14ct gift box,\\nchinese,\\nfruits,\\npersimmons,\\nfuyu,\\n\\n\\nairborne vitamin c with zinc effervescent tablets 27 tablets,\\nmainstream,\\nhealth,\\ndietary supplements,\\n]]\\n=========\\nPlease comment on user’s question  more than 40 words.\\nAnswer:\n",
    "\"\"\"\n",
    "print(\"prompt_b==\"+str(len(prompt_b)))\n",
    "\n",
    "prompts = [prompt_a, prompt_b]\n",
    "\n",
    "prompt=\"\"\"你正在一个聊天室里和不同国家的人们聊天，你能读懂所有国家的语言，你负责通过聊天记录分析所有聊天者的性格和有效信息，具体步骤如下：\n",
    "1.阅读他们的聊天记录\n",
    "2.总结他们聊天里面的重要信息\n",
    "3.抽象他们的人设\n",
    "4.使用评分体系抽象他们之间的人际关系，然后给一个评分，范围1-10分，分越高关系越好\"\"\"\n",
    "\n",
    "prompt=prompt+\"\"\"聊天记录如下：\n",
    "                WaRGazmo : \"you lucked out there buddy\" \n",
    "                WarLord : \"suerte? eso no existe \" \n",
    "                WarLord : \"soy más rápido que la luz \" \n",
    "                WaRGazmo : \"it exists.. or karma\" \n",
    "                DirtyE1bow : \"so you was a planned birth ?\" \n",
    "                WaRGazmo : \"thats what she said bruh\" \n",
    "                WarLord : \"te amo mi amor \" \n",
    "                Manowarik : \"Мир вам,люди добрые..\" \n",
    "                kotofei : \"и тебе боярин, что не подался в челядь королю)\" \n",
    "                XxNORxXMithra : \"God morgen folkens :) \" \n",
    "                kotofei : \"и прочие жители галактики \" \n",
    "                XxNORxXMithra : \"Ja de også forsåvidt :) \" \n",
    "                Manowarik : \"Котофей-это который по цепи кругом?Песни там,сказки?😆😆\" \n",
    "                kotofei : \"не, то дальний убогий родственник \" \n",
    "                Manowarik : \"Эххх..Лукоморье мимо..((\" \n",
    "                kipl : \"Котофей он из сказки Лиса и Котофей Иванович. \" \n",
    "                kipl : \"Межвидовой брак и крышевание леса\" \n",
    "                kotofei : \"лиса 🦊 мералиса и Котофей Иваныч \" \n",
    "                leister : \"😆\" XxFoxyQBAxX : \"po co tyle zrobiłeś?\" \"\"\"\n",
    "\n",
    "prompts = [prompt]\n",
    "\n",
    "def call_endpoint(prompt):\n",
    "    input = {\"inputs\": prompt, \"parameters\": {\"temperature\": 0, \"max_new_tokens\": 100,\n",
    "                                              \"return_full_text\": False}}\n",
    "    input = json.dumps(input).encode('utf-8')\n",
    "\n",
    "    response = runtime.invoke_endpoint(EndpointName=\"vicuna-7B-2023-08-30-01-03-19-806-endpoint\",\n",
    "                                       ContentType='application/json',\n",
    "                                       Accept='application/json',\n",
    "                                       Body=input)\n",
    "    results = json.loads(response['Body'].read().decode())\n",
    "    print(results)\n",
    "\n",
    "\n",
    "results = Parallel(n_jobs=10, prefer='threads', verbose=1, )(\n",
    "    delayed(call_endpoint)(prompt)\n",
    "    for prompt in prompts\n",
    ")"
   ]
  },
  {
   "cell_type": "code",
   "execution_count": null,
   "id": "a2da0c7d",
   "metadata": {},
   "outputs": [],
   "source": [
    "# Clean up the endpoint before proceeding\n",
    "predictor.delete_endpoint()"
   ]
  },
  {
   "cell_type": "markdown",
   "id": "7377c84c",
   "metadata": {},
   "source": [
    "## Reference"
   ]
  },
  {
   "cell_type": "markdown",
   "id": "d1a842b9",
   "metadata": {},
   "source": [
    "[sagemaker-hosting/Large-Language-Model-Hosting/](https://github.com/aws-samples/sagemaker-hosting/tree/main/Large-Language-Model-Hosting)"
   ]
  }
 ],
 "metadata": {
  "kernelspec": {
   "display_name": "conda_pytorch_p310",
   "language": "python",
   "name": "conda_pytorch_p310"
  },
  "language_info": {
   "codemirror_mode": {
    "name": "ipython",
    "version": 3
   },
   "file_extension": ".py",
   "mimetype": "text/x-python",
   "name": "python",
   "nbconvert_exporter": "python",
   "pygments_lexer": "ipython3",
   "version": "3.10.12"
  }
 },
 "nbformat": 4,
 "nbformat_minor": 5
}
