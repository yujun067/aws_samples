{
 "cells": [
  {
   "cell_type": "markdown",
   "id": "c261e5f4-17a8-40da-beb9-599f1717e0fe",
   "metadata": {},
   "source": [
    "### 1. 安装HuggingFace 并下载模型到本地"
   ]
  },
  {
   "cell_type": "code",
   "execution_count": null,
   "id": "02785614-9268-41c8-85a5-d579490edbbf",
   "metadata": {
    "tags": []
   },
   "outputs": [],
   "source": [
    "!pip install huggingface-hub -Uqq\n",
    "!pip install -U sagemaker"
   ]
  },
  {
   "cell_type": "code",
   "execution_count": 12,
   "id": "5e4164b1-673c-45bc-861e-628fc528ea64",
   "metadata": {
    "tags": []
   },
   "outputs": [],
   "source": [
    "!rm -rf ./LLM_codellama_model"
   ]
  },
  {
   "cell_type": "code",
   "execution_count": 1,
   "id": "9e6bd7ee-16a3-4f5a-8857-8bbba83eb9e7",
   "metadata": {
    "tags": []
   },
   "outputs": [],
   "source": [
    "from huggingface_hub import snapshot_download\n",
    "from pathlib import Path\n",
    "\n",
    "local_model_path = Path(\"./LLM_codellama_model\")\n",
    "local_model_path.mkdir(exist_ok=True)\n",
    "model_name = \"codellama/CodeLlama-13b-hf\"\n",
    "commit_hash = \"9e3ca34b26ace9f0c4e098f61f6fa8e9d89dc2c2\""
   ]
  },
  {
   "cell_type": "code",
   "execution_count": 14,
   "id": "94e8abc5-a58e-40e2-b1e6-fbf48307c716",
   "metadata": {
    "tags": []
   },
   "outputs": [
    {
     "data": {
      "application/vnd.jupyter.widget-view+json": {
       "model_id": "e4ee88fcfd1e49e0812a5d24d76f3651",
       "version_major": 2,
       "version_minor": 0
      },
      "text/plain": [
       "Fetching 18 files:   0%|          | 0/18 [00:00<?, ?it/s]"
      ]
     },
     "metadata": {},
     "output_type": "display_data"
    },
    {
     "data": {
      "application/vnd.jupyter.widget-view+json": {
       "model_id": "236eb3cfb1124936afa128a6d5f86409",
       "version_major": 2,
       "version_minor": 0
      },
      "text/plain": [
       "Downloading (…)of-00003.safetensors:   0%|          | 0.00/9.90G [00:00<?, ?B/s]"
      ]
     },
     "metadata": {},
     "output_type": "display_data"
    },
    {
     "data": {
      "application/vnd.jupyter.widget-view+json": {
       "model_id": "051052694fee467ca57ef5f49996a5b8",
       "version_major": 2,
       "version_minor": 0
      },
      "text/plain": [
       "Downloading (…)9dc2c2/USE_POLICY.md:   0%|          | 0.00/4.79k [00:00<?, ?B/s]"
      ]
     },
     "metadata": {},
     "output_type": "display_data"
    },
    {
     "data": {
      "application/vnd.jupyter.widget-view+json": {
       "model_id": "f5541312f8074163bd86b9b1486d295d",
       "version_major": 2,
       "version_minor": 0
      },
      "text/plain": [
       "Downloading (…)d89dc2c2/config.json:   0%|          | 0.00/589 [00:00<?, ?B/s]"
      ]
     },
     "metadata": {},
     "output_type": "display_data"
    },
    {
     "data": {
      "application/vnd.jupyter.widget-view+json": {
       "model_id": "57cf134a8cfb47f082ffdafeace31525",
       "version_major": 2,
       "version_minor": 0
      },
      "text/plain": [
       "Downloading (…)e9d89dc2c2/README.md:   0%|          | 0.00/6.78k [00:00<?, ?B/s]"
      ]
     },
     "metadata": {},
     "output_type": "display_data"
    },
    {
     "data": {
      "application/vnd.jupyter.widget-view+json": {
       "model_id": "bdff827730d649d8ab69b2908625ad75",
       "version_major": 2,
       "version_minor": 0
      },
      "text/plain": [
       "Downloading (…)neration_config.json:   0%|          | 0.00/116 [00:00<?, ?B/s]"
      ]
     },
     "metadata": {},
     "output_type": "display_data"
    },
    {
     "data": {
      "application/vnd.jupyter.widget-view+json": {
       "model_id": "579660e886804b9aa12cf64ac7869609",
       "version_major": 2,
       "version_minor": 0
      },
      "text/plain": [
       "Downloading (…)a8e9d89dc2c2/LICENSE:   0%|          | 0.00/7.02k [00:00<?, ?B/s]"
      ]
     },
     "metadata": {},
     "output_type": "display_data"
    },
    {
     "data": {
      "application/vnd.jupyter.widget-view+json": {
       "model_id": "9be9cfaf12c0402f86875975ca28e49d",
       "version_major": 2,
       "version_minor": 0
      },
      "text/plain": [
       "Downloading (…)dc2c2/.gitattributes:   0%|          | 0.00/1.52k [00:00<?, ?B/s]"
      ]
     },
     "metadata": {},
     "output_type": "display_data"
    },
    {
     "data": {
      "application/vnd.jupyter.widget-view+json": {
       "model_id": "786ad52f14704ebb80c2175d09b89f58",
       "version_major": 2,
       "version_minor": 0
      },
      "text/plain": [
       "Downloading (…)of-00003.safetensors:   0%|          | 0.00/9.95G [00:00<?, ?B/s]"
      ]
     },
     "metadata": {},
     "output_type": "display_data"
    },
    {
     "data": {
      "application/vnd.jupyter.widget-view+json": {
       "model_id": "cd8a511b50f9432d82bcf6c74b35bb9a",
       "version_major": 2,
       "version_minor": 0
      },
      "text/plain": [
       "Downloading (…)of-00003.safetensors:   0%|          | 0.00/6.18G [00:00<?, ?B/s]"
      ]
     },
     "metadata": {},
     "output_type": "display_data"
    },
    {
     "data": {
      "application/vnd.jupyter.widget-view+json": {
       "model_id": "8878b7345df046719a45492e0221cc29",
       "version_major": 2,
       "version_minor": 0
      },
      "text/plain": [
       "Downloading (…)fetensors.index.json:   0%|          | 0.00/31.4k [00:00<?, ?B/s]"
      ]
     },
     "metadata": {},
     "output_type": "display_data"
    },
    {
     "data": {
      "application/vnd.jupyter.widget-view+json": {
       "model_id": "c065d38cf4c84d91b146a3e381a904f8",
       "version_major": 2,
       "version_minor": 0
      },
      "text/plain": [
       "Downloading (…)model.bin.index.json:   0%|          | 0.00/29.9k [00:00<?, ?B/s]"
      ]
     },
     "metadata": {},
     "output_type": "display_data"
    },
    {
     "data": {
      "application/vnd.jupyter.widget-view+json": {
       "model_id": "e9559b96e3ea4033a51c9214c2dfa6ab",
       "version_major": 2,
       "version_minor": 0
      },
      "text/plain": [
       "Downloading (…)cial_tokens_map.json:   0%|          | 0.00/411 [00:00<?, ?B/s]"
      ]
     },
     "metadata": {},
     "output_type": "display_data"
    },
    {
     "data": {
      "application/vnd.jupyter.widget-view+json": {
       "model_id": "b2826edab2c94663b6c011b5155c5526",
       "version_major": 2,
       "version_minor": 0
      },
      "text/plain": [
       "Downloading (…)dc2c2/tokenizer.json:   0%|          | 0.00/1.84M [00:00<?, ?B/s]"
      ]
     },
     "metadata": {},
     "output_type": "display_data"
    },
    {
     "data": {
      "application/vnd.jupyter.widget-view+json": {
       "model_id": "7d02cd3469f54b4ea5c98f293c74b687",
       "version_major": 2,
       "version_minor": 0
      },
      "text/plain": [
       "Downloading tokenizer.model:   0%|          | 0.00/500k [00:00<?, ?B/s]"
      ]
     },
     "metadata": {},
     "output_type": "display_data"
    },
    {
     "data": {
      "application/vnd.jupyter.widget-view+json": {
       "model_id": "0b403fe76b5146618c31071f341d7fcd",
       "version_major": 2,
       "version_minor": 0
      },
      "text/plain": [
       "Downloading (…)l-00001-of-00003.bin:   0%|          | 0.00/9.95G [00:00<?, ?B/s]"
      ]
     },
     "metadata": {},
     "output_type": "display_data"
    },
    {
     "data": {
      "application/vnd.jupyter.widget-view+json": {
       "model_id": "6ef458d6a0a54c2ca293a06c7545bf34",
       "version_major": 2,
       "version_minor": 0
      },
      "text/plain": [
       "Downloading (…)l-00003-of-00003.bin:   0%|          | 0.00/6.51G [00:00<?, ?B/s]"
      ]
     },
     "metadata": {},
     "output_type": "display_data"
    },
    {
     "data": {
      "application/vnd.jupyter.widget-view+json": {
       "model_id": "3a8a62f2277c4a409e47cdbb745fa66e",
       "version_major": 2,
       "version_minor": 0
      },
      "text/plain": [
       "Downloading (…)l-00002-of-00003.bin:   0%|          | 0.00/9.90G [00:00<?, ?B/s]"
      ]
     },
     "metadata": {},
     "output_type": "display_data"
    },
    {
     "data": {
      "application/vnd.jupyter.widget-view+json": {
       "model_id": "f26f538e87594415bf8cd4617aa856fc",
       "version_major": 2,
       "version_minor": 0
      },
      "text/plain": [
       "Downloading (…)okenizer_config.json:   0%|          | 0.00/749 [00:00<?, ?B/s]"
      ]
     },
     "metadata": {},
     "output_type": "display_data"
    },
    {
     "data": {
      "text/plain": [
       "'LLM_codellama_model/models--codellama--CodeLlama-13b-hf/snapshots/9e3ca34b26ace9f0c4e098f61f6fa8e9d89dc2c2'"
      ]
     },
     "execution_count": 14,
     "metadata": {},
     "output_type": "execute_result"
    }
   ],
   "source": [
    "snapshot_download(repo_id=model_name, revision=commit_hash, cache_dir=local_model_path)"
   ]
  },
  {
   "cell_type": "markdown",
   "id": "8d666c79-b039-4258-ac3b-46b19e63c3b8",
   "metadata": {},
   "source": [
    "### 2. 把模型拷贝到S3为后续部署做准备"
   ]
  },
  {
   "cell_type": "code",
   "execution_count": 2,
   "id": "e9431deb-6359-442d-847b-1563f8dd3854",
   "metadata": {
    "tags": []
   },
   "outputs": [
    {
     "name": "stdout",
     "output_type": "stream",
     "text": [
      "sagemaker.config INFO - Not applying SDK defaults from location: /etc/xdg/sagemaker/config.yaml\n",
      "sagemaker.config INFO - Not applying SDK defaults from location: /home/ec2-user/.config/sagemaker/config.yaml\n",
      "sagemaker.config INFO - Not applying SDK defaults from location: /etc/xdg/sagemaker/config.yaml\n",
      "sagemaker.config INFO - Not applying SDK defaults from location: /home/ec2-user/.config/sagemaker/config.yaml\n",
      "sagemaker.config INFO - Not applying SDK defaults from location: /etc/xdg/sagemaker/config.yaml\n",
      "sagemaker.config INFO - Not applying SDK defaults from location: /home/ec2-user/.config/sagemaker/config.yaml\n"
     ]
    }
   ],
   "source": [
    "import sagemaker\n",
    "from sagemaker import image_uris\n",
    "import boto3\n",
    "import os\n",
    "import time\n",
    "import json\n",
    "\n",
    "role = sagemaker.get_execution_role()  # execution role for the endpoint\n",
    "sess = sagemaker.session.Session()  # sagemaker session for interacting with different AWS APIs\n",
    "bucket = sess.default_bucket()  # bucket to house artifacts\n",
    "\n",
    "region = sess._region_name\n",
    "account_id = sess.account_id()\n",
    "\n",
    "s3_client = boto3.client(\"s3\")\n",
    "sm_client = boto3.client(\"sagemaker\")\n",
    "smr_client = boto3.client(\"sagemaker-runtime\")"
   ]
  },
  {
   "cell_type": "code",
   "execution_count": 3,
   "id": "40dd8f16-ae7c-48bf-8e52-1a15425fa74d",
   "metadata": {
    "tags": []
   },
   "outputs": [
    {
     "name": "stdout",
     "output_type": "stream",
     "text": [
      "s3_code_prefix: LLM-RAG/workshop/LLM_codellama_deploy_code\n",
      "model_snapshot_path: LLM_codellama_model/models--codellama--CodeLlama-13b-hf/snapshots/9e3ca34b26ace9f0c4e098f61f6fa8e9d89dc2c2\n"
     ]
    }
   ],
   "source": [
    "s3_model_prefix = \"LLM-RAG/workshop/LLM_codellama_model\"  # folder where model checkpoint will go\n",
    "model_snapshot_path = list(local_model_path.glob(\"**/snapshots/*\"))[0]\n",
    "s3_code_prefix = \"LLM-RAG/workshop/LLM_codellama_deploy_code\"\n",
    "print(f\"s3_code_prefix: {s3_code_prefix}\")\n",
    "print(f\"model_snapshot_path: {model_snapshot_path}\")"
   ]
  },
  {
   "cell_type": "code",
   "execution_count": 17,
   "id": "067292c9-c066-4649-a61f-b460a24da584",
   "metadata": {
    "tags": []
   },
   "outputs": [
    {
     "name": "stdout",
     "output_type": "stream",
     "text": [
      "delete: s3://sagemaker-us-west-2-687912291502/LLM-RAG/workshop/LLM_codellama_model/README.md\n",
      "delete: s3://sagemaker-us-west-2-687912291502/LLM-RAG/workshop/LLM_codellama_model/.gitattributes\n",
      "delete: s3://sagemaker-us-west-2-687912291502/LLM-RAG/workshop/LLM_codellama_model/LICENSE\n",
      "delete: s3://sagemaker-us-west-2-687912291502/LLM-RAG/workshop/LLM_codellama_model/config.json\n",
      "delete: s3://sagemaker-us-west-2-687912291502/LLM-RAG/workshop/LLM_codellama_model/USE_POLICY.md\n",
      "delete: s3://sagemaker-us-west-2-687912291502/LLM-RAG/workshop/LLM_codellama_model/generation_config.json\n",
      "delete: s3://sagemaker-us-west-2-687912291502/LLM-RAG/workshop/LLM_codellama_model/pytorch_model.bin.index.json\n",
      "delete: s3://sagemaker-us-west-2-687912291502/LLM-RAG/workshop/LLM_codellama_model/special_tokens_map.json\n",
      "delete: s3://sagemaker-us-west-2-687912291502/LLM-RAG/workshop/LLM_codellama_model/model.safetensors.index.json\n",
      "delete: s3://sagemaker-us-west-2-687912291502/LLM-RAG/workshop/LLM_codellama_model/tokenizer.model\n",
      "delete: s3://sagemaker-us-west-2-687912291502/LLM-RAG/workshop/LLM_codellama_model/tokenizer.json\n",
      "delete: s3://sagemaker-us-west-2-687912291502/LLM-RAG/workshop/LLM_codellama_model/tokenizer_config.json\n",
      "delete: s3://sagemaker-us-west-2-687912291502/LLM-RAG/workshop/LLM_codellama_model/pytorch_model-00002-of-00003.bin\n",
      "delete: s3://sagemaker-us-west-2-687912291502/LLM-RAG/workshop/LLM_codellama_model/pytorch_model-00003-of-00003.bin\n",
      "delete: s3://sagemaker-us-west-2-687912291502/LLM-RAG/workshop/LLM_codellama_model/pytorch_model-00001-of-00003.bin\n",
      "upload: LLM_codellama_model/models--codellama--CodeLlama-13b-hf/snapshots/9e3ca34b26ace9f0c4e098f61f6fa8e9d89dc2c2/USE_POLICY.md to s3://sagemaker-us-west-2-687912291502/LLM-RAG/workshop/LLM_codellama_model/USE_POLICY.md\n",
      "upload: LLM_codellama_model/models--codellama--CodeLlama-13b-hf/snapshots/9e3ca34b26ace9f0c4e098f61f6fa8e9d89dc2c2/generation_config.json to s3://sagemaker-us-west-2-687912291502/LLM-RAG/workshop/LLM_codellama_model/generation_config.json\n",
      "upload: LLM_codellama_model/models--codellama--CodeLlama-13b-hf/snapshots/9e3ca34b26ace9f0c4e098f61f6fa8e9d89dc2c2/.gitattributes to s3://sagemaker-us-west-2-687912291502/LLM-RAG/workshop/LLM_codellama_model/.gitattributes\n",
      "upload: LLM_codellama_model/models--codellama--CodeLlama-13b-hf/snapshots/9e3ca34b26ace9f0c4e098f61f6fa8e9d89dc2c2/config.json to s3://sagemaker-us-west-2-687912291502/LLM-RAG/workshop/LLM_codellama_model/config.json\n",
      "upload: LLM_codellama_model/models--codellama--CodeLlama-13b-hf/snapshots/9e3ca34b26ace9f0c4e098f61f6fa8e9d89dc2c2/LICENSE to s3://sagemaker-us-west-2-687912291502/LLM-RAG/workshop/LLM_codellama_model/LICENSE\n",
      "upload: LLM_codellama_model/models--codellama--CodeLlama-13b-hf/snapshots/9e3ca34b26ace9f0c4e098f61f6fa8e9d89dc2c2/README.md to s3://sagemaker-us-west-2-687912291502/LLM-RAG/workshop/LLM_codellama_model/README.md\n",
      "upload: LLM_codellama_model/models--codellama--CodeLlama-13b-hf/snapshots/9e3ca34b26ace9f0c4e098f61f6fa8e9d89dc2c2/model.safetensors.index.json to s3://sagemaker-us-west-2-687912291502/LLM-RAG/workshop/LLM_codellama_model/model.safetensors.index.json\n",
      "upload: LLM_codellama_model/models--codellama--CodeLlama-13b-hf/snapshots/9e3ca34b26ace9f0c4e098f61f6fa8e9d89dc2c2/model-00003-of-00003.safetensors to s3://sagemaker-us-west-2-687912291502/LLM-RAG/workshop/LLM_codellama_model/model-00003-of-00003.safetensors\n",
      "upload: LLM_codellama_model/models--codellama--CodeLlama-13b-hf/snapshots/9e3ca34b26ace9f0c4e098f61f6fa8e9d89dc2c2/pytorch_model.bin.index.json to s3://sagemaker-us-west-2-687912291502/LLM-RAG/workshop/LLM_codellama_model/pytorch_model.bin.index.json\n",
      "upload: LLM_codellama_model/models--codellama--CodeLlama-13b-hf/snapshots/9e3ca34b26ace9f0c4e098f61f6fa8e9d89dc2c2/special_tokens_map.json to s3://sagemaker-us-west-2-687912291502/LLM-RAG/workshop/LLM_codellama_model/special_tokens_map.json\n",
      "upload: LLM_codellama_model/models--codellama--CodeLlama-13b-hf/snapshots/9e3ca34b26ace9f0c4e098f61f6fa8e9d89dc2c2/tokenizer.json to s3://sagemaker-us-west-2-687912291502/LLM-RAG/workshop/LLM_codellama_model/tokenizer.json\n",
      "upload: LLM_codellama_model/models--codellama--CodeLlama-13b-hf/snapshots/9e3ca34b26ace9f0c4e098f61f6fa8e9d89dc2c2/model-00002-of-00003.safetensors to s3://sagemaker-us-west-2-687912291502/LLM-RAG/workshop/LLM_codellama_model/model-00002-of-00003.safetensors\n",
      "upload: LLM_codellama_model/models--codellama--CodeLlama-13b-hf/snapshots/9e3ca34b26ace9f0c4e098f61f6fa8e9d89dc2c2/tokenizer_config.json to s3://sagemaker-us-west-2-687912291502/LLM-RAG/workshop/LLM_codellama_model/tokenizer_config.json\n",
      "upload: LLM_codellama_model/models--codellama--CodeLlama-13b-hf/snapshots/9e3ca34b26ace9f0c4e098f61f6fa8e9d89dc2c2/tokenizer.model to s3://sagemaker-us-west-2-687912291502/LLM-RAG/workshop/LLM_codellama_model/tokenizer.model\n",
      "upload: LLM_codellama_model/models--codellama--CodeLlama-13b-hf/snapshots/9e3ca34b26ace9f0c4e098f61f6fa8e9d89dc2c2/pytorch_model-00001-of-00003.bin to s3://sagemaker-us-west-2-687912291502/LLM-RAG/workshop/LLM_codellama_model/pytorch_model-00001-of-00003.bin\n",
      "upload: LLM_codellama_model/models--codellama--CodeLlama-13b-hf/snapshots/9e3ca34b26ace9f0c4e098f61f6fa8e9d89dc2c2/pytorch_model-00002-of-00003.bin to s3://sagemaker-us-west-2-687912291502/LLM-RAG/workshop/LLM_codellama_model/pytorch_model-00002-of-00003.bin\n",
      "upload: LLM_codellama_model/models--codellama--CodeLlama-13b-hf/snapshots/9e3ca34b26ace9f0c4e098f61f6fa8e9d89dc2c2/model-00001-of-00003.safetensors to s3://sagemaker-us-west-2-687912291502/LLM-RAG/workshop/LLM_codellama_model/model-00001-of-00003.safetensors\n",
      "upload: LLM_codellama_model/models--codellama--CodeLlama-13b-hf/snapshots/9e3ca34b26ace9f0c4e098f61f6fa8e9d89dc2c2/pytorch_model-00003-of-00003.bin to s3://sagemaker-us-west-2-687912291502/LLM-RAG/workshop/LLM_codellama_model/pytorch_model-00003-of-00003.bin\n"
     ]
    }
   ],
   "source": [
    "!aws s3 rm --recursive s3://{bucket}/{s3_model_prefix}\n",
    "!aws s3 cp --recursive {model_snapshot_path} s3://{bucket}/{s3_model_prefix}"
   ]
  },
  {
   "cell_type": "markdown",
   "id": "696b70c3-90f1-4175-95bf-568bafbcd383",
   "metadata": {},
   "source": [
    "### 3. 模型部署准备（entrypoint脚本，容器镜像，服务配置）"
   ]
  },
  {
   "cell_type": "code",
   "execution_count": 4,
   "id": "6f7c4277-4480-42c6-aee6-1fbcca94eb82",
   "metadata": {
    "tags": []
   },
   "outputs": [
    {
     "name": "stdout",
     "output_type": "stream",
     "text": [
      "Image going to be used is ---- > 763104351884.dkr.ecr.us-west-2.amazonaws.com/djl-inference:0.23.0-deepspeed0.9.5-cu118\n"
     ]
    }
   ],
   "source": [
    "inference_image_uri = (\n",
    "    f\"763104351884.dkr.ecr.{region}.amazonaws.com/djl-inference:0.23.0-deepspeed0.9.5-cu118\"\n",
    ")\n",
    "\n",
    "#中国区需要替换为下面的image_uri\n",
    "# inference_image_uri = (\n",
    "#     f\"727897471807.dkr.ecr.{region}.amazonaws.com.cn/djl-inference:0.23.0-deepspeed0.9.5-cu118\"\n",
    "# )\n",
    "\n",
    "print(f\"Image going to be used is ---- > {inference_image_uri}\")"
   ]
  },
  {
   "cell_type": "code",
   "execution_count": 5,
   "id": "8d771bdb-11d2-45d2-9bef-face29221838",
   "metadata": {
    "tags": []
   },
   "outputs": [],
   "source": [
    "!mkdir -p LLM_codellama_deploy_code"
   ]
  },
  {
   "cell_type": "code",
   "execution_count": 24,
   "id": "e5348ecb-43df-4094-97d8-a6723004862a",
   "metadata": {
    "tags": []
   },
   "outputs": [
    {
     "name": "stdout",
     "output_type": "stream",
     "text": [
      "Overwriting LLM_codellama_deploy_code/model.py\n"
     ]
    }
   ],
   "source": [
    "%%writefile LLM_codellama_deploy_code/model.py\n",
    "from djl_python import Input, Output\n",
    "import torch\n",
    "import logging\n",
    "import math\n",
    "import os\n",
    "from transformers import AutoModel, AutoTokenizer, AutoModelForCausalLM\n",
    "import transformers\n",
    "import torch\n",
    "import deepspeed\n",
    "\n",
    "\n",
    "def load_model(properties):\n",
    "    tensor_parallel_degree = properties[\"tensor_parallel_degree\"]\n",
    "    model_location = properties['model_dir']\n",
    "    if \"model_id\" in properties:\n",
    "        model_location = properties['model_id']\n",
    "    logging.info(f\"Loading model in {model_location}\")\n",
    "    \n",
    "    tokenizer = AutoTokenizer.from_pretrained(model_location,trust_remote_code=True)\n",
    "    \n",
    "    model = AutoModelForCausalLM.from_pretrained(  \n",
    "    pretrained_model_name_or_path=model_location,  \n",
    "    device_map=\"auto\",  \n",
    "    trust_remote_code=True,\n",
    "    low_cpu_mem_usage=True,    \n",
    "    torch_dtype=torch.float16)\n",
    "    \n",
    "    #model = deepspeed.init_inference(model,\n",
    "    #      tensor_parallel={\"tp_size\": tensor_parallel_degree},\n",
    "    #      dtype=model.dtype,\n",
    "    #      replace_method='auto',\n",
    "    #      replace_with_kernel_inject=True)\n",
    "    #\n",
    "    #local_rank = int(os.getenv(\"LOCAL_RANK\", \"0\"))\n",
    "    #generator = pipeline(\n",
    "    #    task=\"text-generation\", model=model, tokenizer=tokenizer, device=local_rank, use_cache=True\n",
    "    #)\n",
    "    ### for accelerate ####\n",
    "    generator = transformers.pipeline(task=\"text-generation\", model=model, tokenizer=tokenizer, device_map=\"auto\", use_cache=True)\n",
    "    return model, generator, tokenizer\n",
    "\n",
    "\n",
    "pipeline = None\n",
    "tokenizer = None\n",
    "model = None\n",
    "\n",
    "\n",
    "def handle(inputs: Input):\n",
    "    global model,pipeline, tokenizer\n",
    "    if not pipeline:\n",
    "        model, pipeline, tokenizer = load_model(inputs.get_properties())\n",
    "\n",
    "    if inputs.is_empty():\n",
    "        return None\n",
    "    data = inputs.get_as_json()\n",
    "\n",
    "    input_sentences = data[\"inputs\"]\n",
    "    params = data[\"parameters\"]\n",
    "    input_ids = tokenizer.encode(input_sentences, return_tensors='pt').to('cuda')\n",
    "\n",
    "    with torch.no_grad():  \n",
    "       output_ids = model.generate(  \n",
    "            input_ids,\n",
    "            **params)\n",
    "\n",
    "    response=tokenizer.decode(output_ids[0], skip_special_tokens=True)\n",
    "    result = {\"outputs\": response}\n",
    "    return Output().add_as_json(result)"
   ]
  },
  {
   "cell_type": "code",
   "execution_count": 25,
   "id": "68348a83-627b-4924-a216-c2946441659b",
   "metadata": {
    "tags": []
   },
   "outputs": [
    {
     "name": "stdout",
     "output_type": "stream",
     "text": [
      "option.s3url ==> s3://sagemaker-us-west-2-687912291502/LLM-RAG/workshop/LLM_codellama_model/\n"
     ]
    }
   ],
   "source": [
    "print(f\"option.s3url ==> s3://{bucket}/{s3_model_prefix}/\")"
   ]
  },
  {
   "cell_type": "markdown",
   "id": "a06d1e60-3914-4059-a08f-05ac26761165",
   "metadata": {},
   "source": [
    "#### Note: option.s3url 需要按照自己的账号进行修改, 可以拷贝上一个cell的输出"
   ]
  },
  {
   "cell_type": "code",
   "execution_count": 26,
   "id": "8996fe44-8e70-468b-abc1-38187cb33f4f",
   "metadata": {
    "tags": []
   },
   "outputs": [
    {
     "name": "stdout",
     "output_type": "stream",
     "text": [
      "Overwriting LLM_codellama_deploy_code/serving.properties\n"
     ]
    }
   ],
   "source": [
    "%%writefile LLM_codellama_deploy_code/serving.properties\n",
    "engine=Python\n",
    "#engine=DeepSpeed\n",
    "option.entryPoint=model.py\n",
    "option.load_in_8bit=TRUE\n",
    "option.tensor_parallel_degree=4\n",
    "option.s3url=s3://sagemaker-us-west-2-687912291502/LLM-RAG/workshop/LLM_codellama_model/"
   ]
  },
  {
   "cell_type": "markdown",
   "id": "feef22a2-27b9-4018-a46b-6a99b532512f",
   "metadata": {},
   "source": [
    "#### 注意: 必须把transformers升级到4.27.1以上，否则会出现 [Issue344](https://github.com/THUDM/ChatGLM-6B/issues/344)\n",
    "\n",
    "如果是中国区建议添加国内的pip镜像,如下代码所示\n",
    "\n",
    "%%writefile LLM_chatglm_deploy_code/requirements.txt\n",
    "-i https://pypi.tuna.tsinghua.edu.cn/simple\n",
    "transformers==4.28.1\n"
   ]
  },
  {
   "cell_type": "code",
   "execution_count": 27,
   "id": "7b7e76c6-6dbc-47fc-9f47-4765c526ab76",
   "metadata": {
    "tags": []
   },
   "outputs": [
    {
     "name": "stdout",
     "output_type": "stream",
     "text": [
      "Overwriting LLM_codellama_deploy_code/requirements.txt\n"
     ]
    }
   ],
   "source": [
    "%%writefile LLM_codellama_deploy_code/requirements.txt\n",
    "#-i https://pypi.tuna.tsinghua.edu.cn/simple\n",
    "#transformers==4.30.2\n",
    "git+https://github.com/huggingface/transformers"
   ]
  },
  {
   "cell_type": "code",
   "execution_count": 28,
   "id": "0ae6734a-aacd-410d-818d-0a962697c3c4",
   "metadata": {
    "tags": []
   },
   "outputs": [
    {
     "name": "stdout",
     "output_type": "stream",
     "text": [
      "LLM_codellama_deploy_code/\n",
      "LLM_codellama_deploy_code/requirements.txt\n",
      "LLM_codellama_deploy_code/model.py\n",
      "LLM_codellama_deploy_code/serving.properties\n"
     ]
    }
   ],
   "source": [
    "!rm model.tar.gz\n",
    "!cd LLM_codellama_deploy_code && rm -rf \".ipynb_checkpoints\"\n",
    "!tar czvf model.tar.gz LLM_codellama_deploy_code"
   ]
  },
  {
   "cell_type": "code",
   "execution_count": 29,
   "id": "0f77dc76-6d8c-4665-ba88-f03e887c136c",
   "metadata": {
    "tags": []
   },
   "outputs": [
    {
     "name": "stdout",
     "output_type": "stream",
     "text": [
      "S3 Code or Model tar ball uploaded to --- > s3://sagemaker-us-west-2-687912291502/LLM-RAG/workshop/LLM_codellama_deploy_code/model.tar.gz\n"
     ]
    }
   ],
   "source": [
    "s3_code_artifact = sess.upload_data(\"model.tar.gz\", bucket, s3_code_prefix)\n",
    "print(f\"S3 Code or Model tar ball uploaded to --- > {s3_code_artifact}\")"
   ]
  },
  {
   "cell_type": "markdown",
   "id": "a5853daa-b8a3-4485-8c0a-64bf83e93a18",
   "metadata": {},
   "source": [
    "### 4. 创建模型 & 创建endpoint"
   ]
  },
  {
   "cell_type": "code",
   "execution_count": 30,
   "id": "ef974ca1-9638-45a8-9145-ea9d03b2b072",
   "metadata": {
    "tags": []
   },
   "outputs": [
    {
     "name": "stdout",
     "output_type": "stream",
     "text": [
      "codellame-2023-09-22-09-25-02-063\n",
      "Image going to be used is ---- > 763104351884.dkr.ecr.us-west-2.amazonaws.com/djl-inference:0.23.0-deepspeed0.9.5-cu118\n",
      "Created Model: arn:aws:sagemaker:us-west-2:687912291502:model/codellame-2023-09-22-09-25-02-063\n"
     ]
    }
   ],
   "source": [
    "from sagemaker.utils import name_from_base\n",
    "import boto3\n",
    "\n",
    "model_name = name_from_base(f\"codellame\") #Note: Need to specify model_name\n",
    "print(model_name)\n",
    "print(f\"Image going to be used is ---- > {inference_image_uri}\")\n",
    "\n",
    "create_model_response = sm_client.create_model(\n",
    "    ModelName=model_name,\n",
    "    ExecutionRoleArn=role,\n",
    "    PrimaryContainer={\n",
    "        \"Image\": inference_image_uri,\n",
    "        \"ModelDataUrl\": s3_code_artifact\n",
    "    },\n",
    "    \n",
    ")\n",
    "model_arn = create_model_response[\"ModelArn\"]\n",
    "\n",
    "print(f\"Created Model: {model_arn}\")"
   ]
  },
  {
   "cell_type": "code",
   "execution_count": 31,
   "id": "233bb3a4-d737-41ad-8fcc-7082c6278e8c",
   "metadata": {
    "tags": []
   },
   "outputs": [
    {
     "data": {
      "text/plain": [
       "{'EndpointConfigArn': 'arn:aws:sagemaker:us-west-2:687912291502:endpoint-config/codellame-2023-09-22-09-25-02-063-config',\n",
       " 'ResponseMetadata': {'RequestId': '95645bfe-b578-4ff2-92b5-2411113516b8',\n",
       "  'HTTPStatusCode': 200,\n",
       "  'HTTPHeaders': {'x-amzn-requestid': '95645bfe-b578-4ff2-92b5-2411113516b8',\n",
       "   'content-type': 'application/x-amz-json-1.1',\n",
       "   'content-length': '121',\n",
       "   'date': 'Fri, 22 Sep 2023 09:25:04 GMT'},\n",
       "  'RetryAttempts': 0}}"
      ]
     },
     "execution_count": 31,
     "metadata": {},
     "output_type": "execute_result"
    }
   ],
   "source": [
    "endpoint_config_name = f\"{model_name}-config\"\n",
    "endpoint_name = f\"{model_name}-endpoint\"\n",
    "\n",
    "#Note: ml.g4dn.2xlarge 也可以选择\n",
    "endpoint_config_response = sm_client.create_endpoint_config(\n",
    "    EndpointConfigName=endpoint_config_name,\n",
    "    ProductionVariants=[\n",
    "        {\n",
    "            \"VariantName\": \"variant1\",\n",
    "            \"ModelName\": model_name,\n",
    "            \"InstanceType\": \"ml.g5.12xlarge\",\n",
    "            \"InitialInstanceCount\": 1,\n",
    "            # \"VolumeSizeInGB\" : 400,\n",
    "            # \"ModelDataDownloadTimeoutInSeconds\": 2400,\n",
    "            #\"ContainerStartupHealthCheckTimeoutInSeconds\": 15*60,\n",
    "        },\n",
    "    ],\n",
    ")\n",
    "endpoint_config_response"
   ]
  },
  {
   "cell_type": "code",
   "execution_count": 32,
   "id": "734a39b0-473e-4421-94c8-74d2b4105038",
   "metadata": {
    "tags": []
   },
   "outputs": [
    {
     "name": "stdout",
     "output_type": "stream",
     "text": [
      "Created Endpoint: arn:aws:sagemaker:us-west-2:687912291502:endpoint/codellame-2023-09-22-09-25-02-063-endpoint\n"
     ]
    }
   ],
   "source": [
    "create_endpoint_response = sm_client.create_endpoint(\n",
    "    EndpointName=f\"{endpoint_name}\", EndpointConfigName=endpoint_config_name\n",
    ")\n",
    "print(f\"Created Endpoint: {create_endpoint_response['EndpointArn']}\")"
   ]
  },
  {
   "cell_type": "markdown",
   "id": "1262e826-a810-401d-a5a9-f62febb24e5f",
   "metadata": {},
   "source": [
    "#### 持续检测模型部署进度"
   ]
  },
  {
   "cell_type": "code",
   "execution_count": null,
   "id": "08969928-6b9e-4d9c-a033-a31f5f77bdfb",
   "metadata": {
    "tags": []
   },
   "outputs": [
    {
     "name": "stdout",
     "output_type": "stream",
     "text": [
      "Status: Creating\n",
      "Status: Creating\n",
      "Status: Creating\n",
      "Status: Creating\n",
      "Status: Creating\n",
      "Status: Creating\n",
      "Status: Creating\n",
      "Status: InService\n",
      "Arn: arn:aws:sagemaker:us-west-2:687912291502:endpoint/codellame-2023-09-22-09-25-02-063-endpoint\n",
      "Status: InService\n"
     ]
    }
   ],
   "source": [
    "import time\n",
    "\n",
    "resp = sm_client.describe_endpoint(EndpointName=endpoint_name)\n",
    "status = resp[\"EndpointStatus\"]\n",
    "print(\"Status: \" + status)\n",
    "\n",
    "while status == \"Creating\":\n",
    "    time.sleep(60)\n",
    "    resp = sm_client.describe_endpoint(EndpointName=endpoint_name)\n",
    "    status = resp[\"EndpointStatus\"]\n",
    "    print(\"Status: \" + status)\n",
    "\n",
    "print(\"Arn: \" + resp[\"EndpointArn\"])\n",
    "print(\"Status: \" + status)"
   ]
  },
  {
   "cell_type": "markdown",
   "id": "d985b427-3959-46f7-9a50-5a2b45e2d513",
   "metadata": {},
   "source": [
    "### 5. 模型测试"
   ]
  },
  {
   "cell_type": "code",
   "execution_count": null,
   "id": "e56bfdaa-3469-4784-aa8a-e32177cde3f2",
   "metadata": {
    "tags": []
   },
   "outputs": [
    {
     "name": "stdout",
     "output_type": "stream",
     "text": [
      "CPU times: user 3.98 ms, sys: 128 µs, total: 4.11 ms\n",
      "Wall time: 3.76 ms\n"
     ]
    }
   ],
   "source": [
    "%%time\n",
    "import json\n",
    "import boto3\n",
    "\n",
    "smr_client = boto3.client(\"sagemaker-runtime\")\n",
    "\n",
    "parameters = {\n",
    "  \"max_new_tokens\": 300,\n",
    "  \"temperature\": 0.5,\n",
    "  #\"num_beams\": 1, # >1可能会报错，\"probability tensor contains either inf, nan or element < 0\"； 即使remove_invalid_values=True也不能解决\n",
    "  #\"do_sample\": False,\n",
    "  #\"top_p\": 0.7,\n",
    "  #\"logits_processor\" : None,\n",
    "  # \"remove_invalid_values\" : True\n",
    "}"
   ]
  },
  {
   "cell_type": "code",
   "execution_count": 36,
   "id": "a6afe140-25a8-4c7f-a797-1f8427348d04",
   "metadata": {
    "tags": []
   },
   "outputs": [
    {
     "data": {
      "text/plain": [
       "'{\\n  \"outputs\":\"\\\\nYou are a MySQL expert. Given an input question, first create a syntactically correct MySQL query to run, then look at the results of the query and return the answer to the input question.\\\\nUnless the user specifies in the question a specific number of examples to obtain, query for at most 3 results using the LIMIT clause as per MySQL. You can order the results to return the most informative data in the database.\\\\nNever query for all columns from a table. You must query only the columns that are needed to answer the question. Wrap each column name in backticks () to denote them as delimited identifiers.\\\\nPay attention to use only the column names you can see in the tables below. Be careful to not query for columns that do not exist. Also, pay attention to which column is in which table.\\\\nPay attention to use CURDATE() function to get the current date, if the question involves \\\\\"today\\\\\".\\\\n\\\\nUse the following format:\\\\n\\\\nQuestion: Question here\\\\nSQLQuery: SQL Query to run\\\\nSQLResult: Result of the SQLQuery\\\\nAnswer: Final answer here\\\\n\\\\nOnly use the following tables:\\\\nCREATE TABLE ads_bi_quality_monitor_shipping_detail (\\\\n  shipping_order_code varchar(100)  COMMENT \\'派车单编码\\',\\\\n  license_plate varchar(100)  COMMENT \\'车牌号\\',\\\\n  truck_type varchar(50)  COMMENT \\'车辆类型\\',\\\\n  tenant_id varchar(100)  COMMENT \\'租户编码\\',\\\\n  tenant_name varchar(200)  COMMENT \\'租户名称\\',\\\\n  father_company_code varchar(100)  COMMENT \\'分子公司编码\\',\\\\n  father_company_name varchar(200)  COMMENT \\'分子公司名称\\',\\\\n  father_company_short_name varchar(200)  COMMENT \\'分子公司简称\\',\\\\n  start_transport_time varchar(50)  COMMENT \\'运输出发时间\\',\\\\n  signing_time varchar(50)  COMMENT \\'派车单签收时间\\',\\\\n  plan_start_time varchar(50)  COMMENT \\'派车单计划取货时间\\',\\\\n  plan_end_time varchar(50)  COMMENT \\'派车单计划送达时间\\',\\\\n  frist_fence_time varchar(50)  COMMENT \\'第一次碰撞装货地电子围栏时间\\',\\\\n  leave_load_station_2km_time varchar(50)  COMMENT \\'离开最后一个装货地电子围栏2km的时间\\',\\\\n  frist_arrive_unload_time varchar(50)  COMMENT \\'首次到达卸货点电子围栏时间\\',\\\\n  transport_type varchar(10)  COMMENT \\'运输类型(干线/城配)\\',\\\\n  plan_mileage varchar(50)  COMMENT \\'计划里程\\',\\\\n  driver_accept_time varchar(50)  COMMENT \\'司机接单时间\\',\\\\n  driver_name varchar(50)  COMMENT \\'司机姓名\\',\\\\n  driver_phone varchar(50)  COMMENT \\'司机电话\\',\\\\n  driver_type varchar(10)  COMMENT \\'司机类型\\',\\\\n  transport_tenant_id varchar(100)  COMMENT \\'运力承运商id\\',\\\\n  transport_tenant_name varchar(200)  COMMENT \\'运力承运商名称\\',\\\\n  warm_area varchar(50)  COMMENT \\'温区信息\\',\\\\n  waybill_count int DEFAULT NULL COMMENT \\'运单数量\\',\\\\n  gps_device_list varchar(100)  COMMENT \\'gps设备\\',\\\\n  gps_report_dot_num int DEFAULT NULL COMMENT \\'gps上报点数\\',\\\\n  temp_substandard_min decimal(20,8) DEFAULT NULL COMMENT \\'温度不达标时长(分钟)\\',\\\\n  temp_substandard_min_n12 decimal(20,8) DEFAULT NULL COMMENT \\'温度不达标时长(分钟)_-12\\',\\\\n  temp_substandard_min_n16 decimal(20,8) DEFAULT NULL COMMENT \\'温度不达标时长(分钟)_-16\\',\\\\n  shipping_order_transport_min decimal(20,8) DEFAULT NULL COMMENT \\'派车单运输总时长(分钟)\\',\\\\n  shipping_order_temp_standard_rate decimal(20,8) DEFAULT NULL COMMENT \\'派车单温度达标率\\',\\\\n  shipping_order_temp_standard_rate_n12 decimal(20,8) DEFAULT NULL COMMENT \\'派车单温度达标率_-12\\',\\\\n  shipping_order_temp_standard_rate_n16 decimal(20,8) DEFAULT NULL COMMENT \\'派车单温度达标率_-16\\',\\\\n  dep_fence_match_num int DEFAULT NULL COMMENT \\'出发地电子围栏匹配数量\\',\\\\n  dep_total_num int DEFAULT NULL COMMENT \\'出发地总数量\\',\\\\n  dep_fence_match_rate decimal(20,8) DEFAULT NULL COMMENT \\'出发地电子围栏匹配率\\',\\\\n  des_fence_match_num int DEFAULT NULL COMMENT \\'目的地电子围栏匹配数量\\',\\\\n  des_total_num int DEFAULT NULL COMMENT \\'目的地总数量\\',\\\\n  des_fence_match_rate decimal(20,8) DEFAULT NULL COMMENT \\'目的地电子围栏匹配率\\',\\\\n  exception_shipping_order_type varchar(10)  COMMENT \\'异常派车单情况,0-非异常\\',\\\\n  settlement_tenant_id varchar(100)  COMMENT \\'结算主体租户id\\',\\\\n  settlement_tenant_name varchar(100)  COMMENT \\'结算主体租户名称\\',\\\\n  truck_ownership varchar(100)  COMMENT \\'车辆所有权(自有/外请/临时)\\',\\\\n  load_finish_time varchar(50)  COMMENT \\'派车单点击装货完成时间\\',\\\\n  last_leave_unload_time varchar(50)  COMMENT \\'最后离开卸货点时间\\',\\\\n  temp_right_tag varchar(20)  COMMENT \\'温度是否合格(合格/不合格/不参与评估)\\',\\\\n  warm_area_type varchar(20)  COMMENT \\'温区类型。常温/冷链/自定义区间\\',\\\\n  source_dt varchar(20)  COMMENT \\'派车单来源的增量表dt\\',\\\\n  cur_shipping_odr_cust text CHARACTER SET utf8mb4 COLLATE utf8mb4_general_ci COMMENT \\'当前派车单对应的客户\\',\\\\n  is_app_operation varchar(10)  COMMENT \\'是否APP操作卡控\\',\\\\n  leave_load_station_time_app varchar(50)  COMMENT \\'离开第一个装货地时间_app\\',\\\\n  frist_arrive_unload_time_app varchar(50)  COMMENT \\'到达第一个卸货点时间_app\\',\\\\n  last_arrive_unload_time_app varchar(50)  COMMENT \\'到达最后一个卸货点时间_app\\',\\\\n  temp_calc_start_time varchar(50)  COMMENT \\'温度计算开始时间\\',\\\\n  temp_calc_end_time varchar(50)  COMMENT \\'温度计算结束时间\\',\\\\n  exception_shipping_order_type_desc varchar(100)  COMMENT \\'异常派车单情况描述\\',\\\\n  root_shipping_odr_cust text CHARACTER SET utf8mb4 COLLATE utf8mb4_general_ci COMMENT \\'根派车单对应的客户\\',\\\\n  is_use_custom_temp_range varchar(10)  COMMENT \\'是否使用自定义温度范围\\',\\\\n  temp_eval_lowest int DEFAULT NULL COMMENT \\'温度考核最低值\\',\\\\n  temp_eval_highest int DEFAULT NULL COMMENT \\'温度考核最高值\\',\\\\n  is_gps_cover varchar(10)  COMMENT \\'GPS是否覆盖\\',\\\\n  shipping_create_time varchar(50)  COMMENT \\'派车单创建时间\\',\\\\n  gps_device_list_plan varchar(100)  COMMENT \\'GPS设备_预估\\',\\\\n  is_gps_cover_plan varchar(10)  COMMENT \\'GPS是否覆盖_预估\\',\\\\n  first_station_is_on_time varchar(10)  COMMENT \\'首店是否准时\\',\\\\n  is_many_warm varchar(10)  COMMENT \\'是否多温区\\',\\\\n  many_temp_standard_rate decimal(20,8) DEFAULT NULL COMMENT \\'多温区温度达标率\\',\\\\n  lc_standard_ratio decimal(20,8) DEFAULT NULL COMMENT \\'冷藏温度达标率\\',\\\\n  ld_standard_ratio decimal(20,8) DEFAULT NULL COMMENT \\'冷冻温度达标率\\',\\\\n  probe_warm_list text CHARACTER SET utf8mb4 COLLATE utf8mb4_general_ci COMMENT \\'探头温区\\',\\\\n  KEY idx_shipping_code (shipping_order_code),\\\\n  KEY idx_sdt (source_dt)\\\\n) ENGINE=InnoDB  COMMENT=\\'BI看板_品质监控_派车单明细\\';\\\\n\\\\nQuestion: 最近一个月温度合格的派车单数量\\\\nSQLQuery: SELECT COUNT(*) FROM ads_bi_quality_monitor_shipping_detail WHERE temp_right_tag = \\'合格\\' AND source_dt >= DATE_FORMAT(CURDATE() - INTERVAL 1 MONTH, \\'%Y-%m-01\\');\\\\nSQLResult: 100\\\\nAnswer: 100\\\\n\\\\nQuestion: 最近一个月温度不合格的派车单数量\\\\nSQLQuery: SELECT COUNT(*) FROM ads_bi_quality_monitor_shipping_detail WHERE temp_right_tag = \\'不合格\\' AND source_dt >= DATE_FORMAT(CURDATE() - INTERVAL 1 MONTH, \\'%Y-%m-01\\');\\\\nSQLResult: 100\\\\nAnswer: 100\\\\n\\\\nQuestion: 最近一个月温度不参与评估的派车单数量\\\\nSQLQuery: SELECT COUNT(*) FROM ads_bi_quality_monitor_shipping_detail WHERE temp_right_tag = \\'不参与评估\\' AND source_dt >= DATE_FORMAT(CURDATE() - INTERVAL 1 MONTH, \\'%Y-%m-01\\');\\\\nSQLResult: 100\\\\nAnswer:\"\\n}'"
      ]
     },
     "execution_count": 36,
     "metadata": {},
     "output_type": "execute_result"
    }
   ],
   "source": [
    "sql_prompt= \"\"\"\n",
    "You are a MySQL expert. Given an input question, first create a syntactically correct MySQL query to run, then look at the results of the query and return the answer to the input question.\n",
    "Unless the user specifies in the question a specific number of examples to obtain, query for at most 3 results using the LIMIT clause as per MySQL. You can order the results to return the most informative data in the database.\n",
    "Never query for all columns from a table. You must query only the columns that are needed to answer the question. Wrap each column name in backticks () to denote them as delimited identifiers.\n",
    "Pay attention to use only the column names you can see in the tables below. Be careful to not query for columns that do not exist. Also, pay attention to which column is in which table.\n",
    "Pay attention to use CURDATE() function to get the current date, if the question involves \"today\".\n",
    "\n",
    "Use the following format:\n",
    "\n",
    "Question: Question here\n",
    "SQLQuery: SQL Query to run\n",
    "SQLResult: Result of the SQLQuery\n",
    "Answer: Final answer here\n",
    "\n",
    "Only use the following tables:\n",
    "CREATE TABLE ads_bi_quality_monitor_shipping_detail (\n",
    "  shipping_order_code varchar(100)  COMMENT '派车单编码',\n",
    "  license_plate varchar(100)  COMMENT '车牌号',\n",
    "  truck_type varchar(50)  COMMENT '车辆类型',\n",
    "  tenant_id varchar(100)  COMMENT '租户编码',\n",
    "  tenant_name varchar(200)  COMMENT '租户名称',\n",
    "  father_company_code varchar(100)  COMMENT '分子公司编码',\n",
    "  father_company_name varchar(200)  COMMENT '分子公司名称',\n",
    "  father_company_short_name varchar(200)  COMMENT '分子公司简称',\n",
    "  start_transport_time varchar(50)  COMMENT '运输出发时间',\n",
    "  signing_time varchar(50)  COMMENT '派车单签收时间',\n",
    "  plan_start_time varchar(50)  COMMENT '派车单计划取货时间',\n",
    "  plan_end_time varchar(50)  COMMENT '派车单计划送达时间',\n",
    "  frist_fence_time varchar(50)  COMMENT '第一次碰撞装货地电子围栏时间',\n",
    "  leave_load_station_2km_time varchar(50)  COMMENT '离开最后一个装货地电子围栏2km的时间',\n",
    "  frist_arrive_unload_time varchar(50)  COMMENT '首次到达卸货点电子围栏时间',\n",
    "  transport_type varchar(10)  COMMENT '运输类型(干线/城配)',\n",
    "  plan_mileage varchar(50)  COMMENT '计划里程',\n",
    "  driver_accept_time varchar(50)  COMMENT '司机接单时间',\n",
    "  driver_name varchar(50)  COMMENT '司机姓名',\n",
    "  driver_phone varchar(50)  COMMENT '司机电话',\n",
    "  driver_type varchar(10)  COMMENT '司机类型',\n",
    "  transport_tenant_id varchar(100)  COMMENT '运力承运商id',\n",
    "  transport_tenant_name varchar(200)  COMMENT '运力承运商名称',\n",
    "  warm_area varchar(50)  COMMENT '温区信息',\n",
    "  waybill_count int DEFAULT NULL COMMENT '运单数量',\n",
    "  gps_device_list varchar(100)  COMMENT 'gps设备',\n",
    "  gps_report_dot_num int DEFAULT NULL COMMENT 'gps上报点数',\n",
    "  temp_substandard_min decimal(20,8) DEFAULT NULL COMMENT '温度不达标时长(分钟)',\n",
    "  temp_substandard_min_n12 decimal(20,8) DEFAULT NULL COMMENT '温度不达标时长(分钟)_-12',\n",
    "  temp_substandard_min_n16 decimal(20,8) DEFAULT NULL COMMENT '温度不达标时长(分钟)_-16',\n",
    "  shipping_order_transport_min decimal(20,8) DEFAULT NULL COMMENT '派车单运输总时长(分钟)',\n",
    "  shipping_order_temp_standard_rate decimal(20,8) DEFAULT NULL COMMENT '派车单温度达标率',\n",
    "  shipping_order_temp_standard_rate_n12 decimal(20,8) DEFAULT NULL COMMENT '派车单温度达标率_-12',\n",
    "  shipping_order_temp_standard_rate_n16 decimal(20,8) DEFAULT NULL COMMENT '派车单温度达标率_-16',\n",
    "  dep_fence_match_num int DEFAULT NULL COMMENT '出发地电子围栏匹配数量',\n",
    "  dep_total_num int DEFAULT NULL COMMENT '出发地总数量',\n",
    "  dep_fence_match_rate decimal(20,8) DEFAULT NULL COMMENT '出发地电子围栏匹配率',\n",
    "  des_fence_match_num int DEFAULT NULL COMMENT '目的地电子围栏匹配数量',\n",
    "  des_total_num int DEFAULT NULL COMMENT '目的地总数量',\n",
    "  des_fence_match_rate decimal(20,8) DEFAULT NULL COMMENT '目的地电子围栏匹配率',\n",
    "  exception_shipping_order_type varchar(10)  COMMENT '异常派车单情况,0-非异常',\n",
    "  settlement_tenant_id varchar(100)  COMMENT '结算主体租户id',\n",
    "  settlement_tenant_name varchar(100)  COMMENT '结算主体租户名称',\n",
    "  truck_ownership varchar(100)  COMMENT '车辆所有权(自有/外请/临时)',\n",
    "  load_finish_time varchar(50)  COMMENT '派车单点击装货完成时间',\n",
    "  last_leave_unload_time varchar(50)  COMMENT '最后离开卸货点时间',\n",
    "  temp_right_tag varchar(20)  COMMENT '温度是否合格(合格/不合格/不参与评估)',\n",
    "  warm_area_type varchar(20)  COMMENT '温区类型。常温/冷链/自定义区间',\n",
    "  source_dt varchar(20)  COMMENT '派车单来源的增量表dt',\n",
    "  cur_shipping_odr_cust text CHARACTER SET utf8mb4 COLLATE utf8mb4_general_ci COMMENT '当前派车单对应的客户',\n",
    "  is_app_operation varchar(10)  COMMENT '是否APP操作卡控',\n",
    "  leave_load_station_time_app varchar(50)  COMMENT '离开第一个装货地时间_app',\n",
    "  frist_arrive_unload_time_app varchar(50)  COMMENT '到达第一个卸货点时间_app',\n",
    "  last_arrive_unload_time_app varchar(50)  COMMENT '到达最后一个卸货点时间_app',\n",
    "  temp_calc_start_time varchar(50)  COMMENT '温度计算开始时间',\n",
    "  temp_calc_end_time varchar(50)  COMMENT '温度计算结束时间',\n",
    "  exception_shipping_order_type_desc varchar(100)  COMMENT '异常派车单情况描述',\n",
    "  root_shipping_odr_cust text CHARACTER SET utf8mb4 COLLATE utf8mb4_general_ci COMMENT '根派车单对应的客户',\n",
    "  is_use_custom_temp_range varchar(10)  COMMENT '是否使用自定义温度范围',\n",
    "  temp_eval_lowest int DEFAULT NULL COMMENT '温度考核最低值',\n",
    "  temp_eval_highest int DEFAULT NULL COMMENT '温度考核最高值',\n",
    "  is_gps_cover varchar(10)  COMMENT 'GPS是否覆盖',\n",
    "  shipping_create_time varchar(50)  COMMENT '派车单创建时间',\n",
    "  gps_device_list_plan varchar(100)  COMMENT 'GPS设备_预估',\n",
    "  is_gps_cover_plan varchar(10)  COMMENT 'GPS是否覆盖_预估',\n",
    "  first_station_is_on_time varchar(10)  COMMENT '首店是否准时',\n",
    "  is_many_warm varchar(10)  COMMENT '是否多温区',\n",
    "  many_temp_standard_rate decimal(20,8) DEFAULT NULL COMMENT '多温区温度达标率',\n",
    "  lc_standard_ratio decimal(20,8) DEFAULT NULL COMMENT '冷藏温度达标率',\n",
    "  ld_standard_ratio decimal(20,8) DEFAULT NULL COMMENT '冷冻温度达标率',\n",
    "  probe_warm_list text CHARACTER SET utf8mb4 COLLATE utf8mb4_general_ci COMMENT '探头温区',\n",
    "  KEY idx_shipping_code (shipping_order_code),\n",
    "  KEY idx_sdt (source_dt)\n",
    ") ENGINE=InnoDB  COMMENT='BI看板_品质监控_派车单明细';\n",
    "\n",
    "Question: 最近一个月温度合格的派车单数量\n",
    "\"\"\"\n",
    "endpoint_name=\"codellame-2023-09-22-09-25-02-063-endpoint\"\n",
    "response_model = smr_client.invoke_endpoint(\n",
    "            EndpointName=endpoint_name,\n",
    "            Body=json.dumps(\n",
    "            {\n",
    "                \"inputs\": sql_prompt,\n",
    "                #\"inputs\": \"write a python code for hello world\",\n",
    "                \n",
    "                \"parameters\": parameters\n",
    "            }\n",
    "            ),\n",
    "            ContentType=\"application/json\",\n",
    "        )\n",
    "\n",
    "response_model['Body'].read().decode('utf8')"
   ]
  },
  {
   "cell_type": "markdown",
   "id": "21c8b703-e312-4964-8be9-a754468e07cd",
   "metadata": {},
   "source": [
    "#### 清除模型Endpoint和config"
   ]
  },
  {
   "cell_type": "code",
   "execution_count": null,
   "id": "f70d116f-4fb1-4f04-8732-3d6e4fb520de",
   "metadata": {
    "tags": []
   },
   "outputs": [],
   "source": [
    "!aws sagemaker delete-endpoint --endpoint-name codellama-2023-06-27-06-53-41-986-endpoint"
   ]
  }
 ],
 "metadata": {
  "availableInstances": [
   {
    "_defaultOrder": 0,
    "_isFastLaunch": true,
    "category": "General purpose",
    "gpuNum": 0,
    "hideHardwareSpecs": false,
    "memoryGiB": 4,
    "name": "ml.t3.medium",
    "vcpuNum": 2
   },
   {
    "_defaultOrder": 1,
    "_isFastLaunch": false,
    "category": "General purpose",
    "gpuNum": 0,
    "hideHardwareSpecs": false,
    "memoryGiB": 8,
    "name": "ml.t3.large",
    "vcpuNum": 2
   },
   {
    "_defaultOrder": 2,
    "_isFastLaunch": false,
    "category": "General purpose",
    "gpuNum": 0,
    "hideHardwareSpecs": false,
    "memoryGiB": 16,
    "name": "ml.t3.xlarge",
    "vcpuNum": 4
   },
   {
    "_defaultOrder": 3,
    "_isFastLaunch": false,
    "category": "General purpose",
    "gpuNum": 0,
    "hideHardwareSpecs": false,
    "memoryGiB": 32,
    "name": "ml.t3.2xlarge",
    "vcpuNum": 8
   },
   {
    "_defaultOrder": 4,
    "_isFastLaunch": true,
    "category": "General purpose",
    "gpuNum": 0,
    "hideHardwareSpecs": false,
    "memoryGiB": 8,
    "name": "ml.m5.large",
    "vcpuNum": 2
   },
   {
    "_defaultOrder": 5,
    "_isFastLaunch": false,
    "category": "General purpose",
    "gpuNum": 0,
    "hideHardwareSpecs": false,
    "memoryGiB": 16,
    "name": "ml.m5.xlarge",
    "vcpuNum": 4
   },
   {
    "_defaultOrder": 6,
    "_isFastLaunch": false,
    "category": "General purpose",
    "gpuNum": 0,
    "hideHardwareSpecs": false,
    "memoryGiB": 32,
    "name": "ml.m5.2xlarge",
    "vcpuNum": 8
   },
   {
    "_defaultOrder": 7,
    "_isFastLaunch": false,
    "category": "General purpose",
    "gpuNum": 0,
    "hideHardwareSpecs": false,
    "memoryGiB": 64,
    "name": "ml.m5.4xlarge",
    "vcpuNum": 16
   },
   {
    "_defaultOrder": 8,
    "_isFastLaunch": false,
    "category": "General purpose",
    "gpuNum": 0,
    "hideHardwareSpecs": false,
    "memoryGiB": 128,
    "name": "ml.m5.8xlarge",
    "vcpuNum": 32
   },
   {
    "_defaultOrder": 9,
    "_isFastLaunch": false,
    "category": "General purpose",
    "gpuNum": 0,
    "hideHardwareSpecs": false,
    "memoryGiB": 192,
    "name": "ml.m5.12xlarge",
    "vcpuNum": 48
   },
   {
    "_defaultOrder": 10,
    "_isFastLaunch": false,
    "category": "General purpose",
    "gpuNum": 0,
    "hideHardwareSpecs": false,
    "memoryGiB": 256,
    "name": "ml.m5.16xlarge",
    "vcpuNum": 64
   },
   {
    "_defaultOrder": 11,
    "_isFastLaunch": false,
    "category": "General purpose",
    "gpuNum": 0,
    "hideHardwareSpecs": false,
    "memoryGiB": 384,
    "name": "ml.m5.24xlarge",
    "vcpuNum": 96
   },
   {
    "_defaultOrder": 12,
    "_isFastLaunch": false,
    "category": "General purpose",
    "gpuNum": 0,
    "hideHardwareSpecs": false,
    "memoryGiB": 8,
    "name": "ml.m5d.large",
    "vcpuNum": 2
   },
   {
    "_defaultOrder": 13,
    "_isFastLaunch": false,
    "category": "General purpose",
    "gpuNum": 0,
    "hideHardwareSpecs": false,
    "memoryGiB": 16,
    "name": "ml.m5d.xlarge",
    "vcpuNum": 4
   },
   {
    "_defaultOrder": 14,
    "_isFastLaunch": false,
    "category": "General purpose",
    "gpuNum": 0,
    "hideHardwareSpecs": false,
    "memoryGiB": 32,
    "name": "ml.m5d.2xlarge",
    "vcpuNum": 8
   },
   {
    "_defaultOrder": 15,
    "_isFastLaunch": false,
    "category": "General purpose",
    "gpuNum": 0,
    "hideHardwareSpecs": false,
    "memoryGiB": 64,
    "name": "ml.m5d.4xlarge",
    "vcpuNum": 16
   },
   {
    "_defaultOrder": 16,
    "_isFastLaunch": false,
    "category": "General purpose",
    "gpuNum": 0,
    "hideHardwareSpecs": false,
    "memoryGiB": 128,
    "name": "ml.m5d.8xlarge",
    "vcpuNum": 32
   },
   {
    "_defaultOrder": 17,
    "_isFastLaunch": false,
    "category": "General purpose",
    "gpuNum": 0,
    "hideHardwareSpecs": false,
    "memoryGiB": 192,
    "name": "ml.m5d.12xlarge",
    "vcpuNum": 48
   },
   {
    "_defaultOrder": 18,
    "_isFastLaunch": false,
    "category": "General purpose",
    "gpuNum": 0,
    "hideHardwareSpecs": false,
    "memoryGiB": 256,
    "name": "ml.m5d.16xlarge",
    "vcpuNum": 64
   },
   {
    "_defaultOrder": 19,
    "_isFastLaunch": false,
    "category": "General purpose",
    "gpuNum": 0,
    "hideHardwareSpecs": false,
    "memoryGiB": 384,
    "name": "ml.m5d.24xlarge",
    "vcpuNum": 96
   },
   {
    "_defaultOrder": 20,
    "_isFastLaunch": false,
    "category": "General purpose",
    "gpuNum": 0,
    "hideHardwareSpecs": true,
    "memoryGiB": 0,
    "name": "ml.geospatial.interactive",
    "supportedImageNames": [
     "sagemaker-geospatial-v1-0"
    ],
    "vcpuNum": 0
   },
   {
    "_defaultOrder": 21,
    "_isFastLaunch": true,
    "category": "Compute optimized",
    "gpuNum": 0,
    "hideHardwareSpecs": false,
    "memoryGiB": 4,
    "name": "ml.c5.large",
    "vcpuNum": 2
   },
   {
    "_defaultOrder": 22,
    "_isFastLaunch": false,
    "category": "Compute optimized",
    "gpuNum": 0,
    "hideHardwareSpecs": false,
    "memoryGiB": 8,
    "name": "ml.c5.xlarge",
    "vcpuNum": 4
   },
   {
    "_defaultOrder": 23,
    "_isFastLaunch": false,
    "category": "Compute optimized",
    "gpuNum": 0,
    "hideHardwareSpecs": false,
    "memoryGiB": 16,
    "name": "ml.c5.2xlarge",
    "vcpuNum": 8
   },
   {
    "_defaultOrder": 24,
    "_isFastLaunch": false,
    "category": "Compute optimized",
    "gpuNum": 0,
    "hideHardwareSpecs": false,
    "memoryGiB": 32,
    "name": "ml.c5.4xlarge",
    "vcpuNum": 16
   },
   {
    "_defaultOrder": 25,
    "_isFastLaunch": false,
    "category": "Compute optimized",
    "gpuNum": 0,
    "hideHardwareSpecs": false,
    "memoryGiB": 72,
    "name": "ml.c5.9xlarge",
    "vcpuNum": 36
   },
   {
    "_defaultOrder": 26,
    "_isFastLaunch": false,
    "category": "Compute optimized",
    "gpuNum": 0,
    "hideHardwareSpecs": false,
    "memoryGiB": 96,
    "name": "ml.c5.12xlarge",
    "vcpuNum": 48
   },
   {
    "_defaultOrder": 27,
    "_isFastLaunch": false,
    "category": "Compute optimized",
    "gpuNum": 0,
    "hideHardwareSpecs": false,
    "memoryGiB": 144,
    "name": "ml.c5.18xlarge",
    "vcpuNum": 72
   },
   {
    "_defaultOrder": 28,
    "_isFastLaunch": false,
    "category": "Compute optimized",
    "gpuNum": 0,
    "hideHardwareSpecs": false,
    "memoryGiB": 192,
    "name": "ml.c5.24xlarge",
    "vcpuNum": 96
   },
   {
    "_defaultOrder": 29,
    "_isFastLaunch": true,
    "category": "Accelerated computing",
    "gpuNum": 1,
    "hideHardwareSpecs": false,
    "memoryGiB": 16,
    "name": "ml.g4dn.xlarge",
    "vcpuNum": 4
   },
   {
    "_defaultOrder": 30,
    "_isFastLaunch": false,
    "category": "Accelerated computing",
    "gpuNum": 1,
    "hideHardwareSpecs": false,
    "memoryGiB": 32,
    "name": "ml.g4dn.2xlarge",
    "vcpuNum": 8
   },
   {
    "_defaultOrder": 31,
    "_isFastLaunch": false,
    "category": "Accelerated computing",
    "gpuNum": 1,
    "hideHardwareSpecs": false,
    "memoryGiB": 64,
    "name": "ml.g4dn.4xlarge",
    "vcpuNum": 16
   },
   {
    "_defaultOrder": 32,
    "_isFastLaunch": false,
    "category": "Accelerated computing",
    "gpuNum": 1,
    "hideHardwareSpecs": false,
    "memoryGiB": 128,
    "name": "ml.g4dn.8xlarge",
    "vcpuNum": 32
   },
   {
    "_defaultOrder": 33,
    "_isFastLaunch": false,
    "category": "Accelerated computing",
    "gpuNum": 4,
    "hideHardwareSpecs": false,
    "memoryGiB": 192,
    "name": "ml.g4dn.12xlarge",
    "vcpuNum": 48
   },
   {
    "_defaultOrder": 34,
    "_isFastLaunch": false,
    "category": "Accelerated computing",
    "gpuNum": 1,
    "hideHardwareSpecs": false,
    "memoryGiB": 256,
    "name": "ml.g4dn.16xlarge",
    "vcpuNum": 64
   },
   {
    "_defaultOrder": 35,
    "_isFastLaunch": false,
    "category": "Accelerated computing",
    "gpuNum": 1,
    "hideHardwareSpecs": false,
    "memoryGiB": 61,
    "name": "ml.p3.2xlarge",
    "vcpuNum": 8
   },
   {
    "_defaultOrder": 36,
    "_isFastLaunch": false,
    "category": "Accelerated computing",
    "gpuNum": 4,
    "hideHardwareSpecs": false,
    "memoryGiB": 244,
    "name": "ml.p3.8xlarge",
    "vcpuNum": 32
   },
   {
    "_defaultOrder": 37,
    "_isFastLaunch": false,
    "category": "Accelerated computing",
    "gpuNum": 8,
    "hideHardwareSpecs": false,
    "memoryGiB": 488,
    "name": "ml.p3.16xlarge",
    "vcpuNum": 64
   },
   {
    "_defaultOrder": 38,
    "_isFastLaunch": false,
    "category": "Accelerated computing",
    "gpuNum": 8,
    "hideHardwareSpecs": false,
    "memoryGiB": 768,
    "name": "ml.p3dn.24xlarge",
    "vcpuNum": 96
   },
   {
    "_defaultOrder": 39,
    "_isFastLaunch": false,
    "category": "Memory Optimized",
    "gpuNum": 0,
    "hideHardwareSpecs": false,
    "memoryGiB": 16,
    "name": "ml.r5.large",
    "vcpuNum": 2
   },
   {
    "_defaultOrder": 40,
    "_isFastLaunch": false,
    "category": "Memory Optimized",
    "gpuNum": 0,
    "hideHardwareSpecs": false,
    "memoryGiB": 32,
    "name": "ml.r5.xlarge",
    "vcpuNum": 4
   },
   {
    "_defaultOrder": 41,
    "_isFastLaunch": false,
    "category": "Memory Optimized",
    "gpuNum": 0,
    "hideHardwareSpecs": false,
    "memoryGiB": 64,
    "name": "ml.r5.2xlarge",
    "vcpuNum": 8
   },
   {
    "_defaultOrder": 42,
    "_isFastLaunch": false,
    "category": "Memory Optimized",
    "gpuNum": 0,
    "hideHardwareSpecs": false,
    "memoryGiB": 128,
    "name": "ml.r5.4xlarge",
    "vcpuNum": 16
   },
   {
    "_defaultOrder": 43,
    "_isFastLaunch": false,
    "category": "Memory Optimized",
    "gpuNum": 0,
    "hideHardwareSpecs": false,
    "memoryGiB": 256,
    "name": "ml.r5.8xlarge",
    "vcpuNum": 32
   },
   {
    "_defaultOrder": 44,
    "_isFastLaunch": false,
    "category": "Memory Optimized",
    "gpuNum": 0,
    "hideHardwareSpecs": false,
    "memoryGiB": 384,
    "name": "ml.r5.12xlarge",
    "vcpuNum": 48
   },
   {
    "_defaultOrder": 45,
    "_isFastLaunch": false,
    "category": "Memory Optimized",
    "gpuNum": 0,
    "hideHardwareSpecs": false,
    "memoryGiB": 512,
    "name": "ml.r5.16xlarge",
    "vcpuNum": 64
   },
   {
    "_defaultOrder": 46,
    "_isFastLaunch": false,
    "category": "Memory Optimized",
    "gpuNum": 0,
    "hideHardwareSpecs": false,
    "memoryGiB": 768,
    "name": "ml.r5.24xlarge",
    "vcpuNum": 96
   },
   {
    "_defaultOrder": 47,
    "_isFastLaunch": false,
    "category": "Accelerated computing",
    "gpuNum": 1,
    "hideHardwareSpecs": false,
    "memoryGiB": 16,
    "name": "ml.g5.xlarge",
    "vcpuNum": 4
   },
   {
    "_defaultOrder": 48,
    "_isFastLaunch": false,
    "category": "Accelerated computing",
    "gpuNum": 1,
    "hideHardwareSpecs": false,
    "memoryGiB": 32,
    "name": "ml.g5.2xlarge",
    "vcpuNum": 8
   },
   {
    "_defaultOrder": 49,
    "_isFastLaunch": false,
    "category": "Accelerated computing",
    "gpuNum": 1,
    "hideHardwareSpecs": false,
    "memoryGiB": 64,
    "name": "ml.g5.4xlarge",
    "vcpuNum": 16
   },
   {
    "_defaultOrder": 50,
    "_isFastLaunch": false,
    "category": "Accelerated computing",
    "gpuNum": 1,
    "hideHardwareSpecs": false,
    "memoryGiB": 128,
    "name": "ml.g5.8xlarge",
    "vcpuNum": 32
   },
   {
    "_defaultOrder": 51,
    "_isFastLaunch": false,
    "category": "Accelerated computing",
    "gpuNum": 1,
    "hideHardwareSpecs": false,
    "memoryGiB": 256,
    "name": "ml.g5.16xlarge",
    "vcpuNum": 64
   },
   {
    "_defaultOrder": 52,
    "_isFastLaunch": false,
    "category": "Accelerated computing",
    "gpuNum": 4,
    "hideHardwareSpecs": false,
    "memoryGiB": 192,
    "name": "ml.g5.12xlarge",
    "vcpuNum": 48
   },
   {
    "_defaultOrder": 53,
    "_isFastLaunch": false,
    "category": "Accelerated computing",
    "gpuNum": 4,
    "hideHardwareSpecs": false,
    "memoryGiB": 384,
    "name": "ml.g5.24xlarge",
    "vcpuNum": 96
   },
   {
    "_defaultOrder": 54,
    "_isFastLaunch": false,
    "category": "Accelerated computing",
    "gpuNum": 8,
    "hideHardwareSpecs": false,
    "memoryGiB": 768,
    "name": "ml.g5.48xlarge",
    "vcpuNum": 192
   },
   {
    "_defaultOrder": 55,
    "_isFastLaunch": false,
    "category": "Accelerated computing",
    "gpuNum": 8,
    "hideHardwareSpecs": false,
    "memoryGiB": 1152,
    "name": "ml.p4d.24xlarge",
    "vcpuNum": 96
   },
   {
    "_defaultOrder": 56,
    "_isFastLaunch": false,
    "category": "Accelerated computing",
    "gpuNum": 8,
    "hideHardwareSpecs": false,
    "memoryGiB": 1152,
    "name": "ml.p4de.24xlarge",
    "vcpuNum": 96
   }
  ],
  "instance_type": "ml.m5.large",
  "kernelspec": {
   "display_name": "conda_pytorch_p310",
   "language": "python",
   "name": "conda_pytorch_p310"
  },
  "language_info": {
   "codemirror_mode": {
    "name": "ipython",
    "version": 3
   },
   "file_extension": ".py",
   "mimetype": "text/x-python",
   "name": "python",
   "nbconvert_exporter": "python",
   "pygments_lexer": "ipython3",
   "version": "3.10.12"
  }
 },
 "nbformat": 4,
 "nbformat_minor": 5
}
